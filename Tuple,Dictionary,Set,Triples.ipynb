{
 "cells": [
  {
   "cell_type": "markdown",
   "metadata": {},
   "source": [
    "# Tuples"
   ]
  },
  {
   "cell_type": "code",
   "execution_count": null,
   "metadata": {},
   "outputs": [],
   "source": [
    "t=()\n",
    "print(type(t))"
   ]
  },
  {
   "cell_type": "code",
   "execution_count": null,
   "metadata": {},
   "outputs": [],
   "source": [
    "t=tuple()\n",
    "t=(12,13,-3,\"mango\")\n",
    "t"
   ]
  },
  {
   "cell_type": "code",
   "execution_count": null,
   "metadata": {},
   "outputs": [],
   "source": [
    "#create tuple with single element\n",
    "t=(3,)\n",
    "print(type(t))\n",
    "t"
   ]
  },
  {
   "cell_type": "code",
   "execution_count": null,
   "metadata": {},
   "outputs": [],
   "source": [
    "t = tuple('hello')\n",
    "print(t)\n",
    "ls = [1,2,\"hujhdsf\",True]\n",
    "tuple(ls)"
   ]
  },
  {
   "cell_type": "code",
   "execution_count": null,
   "metadata": {},
   "outputs": [],
   "source": [
    "t = (3,65,\"duhvj\",89)\n",
    "t1 = t\n",
    "print(id(t),\"   \",id(t))"
   ]
  },
  {
   "cell_type": "code",
   "execution_count": null,
   "metadata": {},
   "outputs": [],
   "source": [
    "print(t1[1:3:])\n",
    "t = 'Mango', \"apple\", \"banana\"\n",
    "# t[0] = 'mango'   Error\n",
    "t = ('papaya',) + t[1:]\n",
    "print(t)\n",
    "t = t[1:] + t[0:1]\n",
    "t"
   ]
  },
  {
   "cell_type": "code",
   "execution_count": null,
   "metadata": {},
   "outputs": [],
   "source": [
    "ls = [\"hello\", \"world\",\"grtg\"]\n",
    "x,y,z = ls\n",
    "print(x)\n",
    "print(y)\n",
    "x,y  = 10,20\n",
    "print(type(x))\n"
   ]
  },
  {
   "cell_type": "code",
   "execution_count": null,
   "metadata": {},
   "outputs": [],
   "source": [
    "#swapping two variables\n",
    "x,y = y,x\n",
    "print(x)\n",
    "y"
   ]
  },
  {
   "cell_type": "code",
   "execution_count": null,
   "metadata": {},
   "outputs": [],
   "source": [
    "email = \"mainpal.edu@gmail.com\"\n",
    "user,domain = email.split(\"@\")\n",
    "print(user)\n",
    "print(domain)"
   ]
  },
  {
   "cell_type": "markdown",
   "metadata": {},
   "source": [
    "# sorting dictionary elements\n"
   ]
  },
  {
   "cell_type": "code",
   "execution_count": null,
   "metadata": {},
   "outputs": [],
   "source": [
    "d = {'b':1, 'c':25, 'a':12}\n",
    "ls = list(d.items())\n",
    "print(ls)\n",
    "ls.sort(reverse=True)\n",
    "ls"
   ]
  },
  {
   "cell_type": "code",
   "execution_count": null,
   "metadata": {},
   "outputs": [],
   "source": [
    "#write program to sort words of a given sentence from longest to smallest\n",
    "inp = \"Haij how are you irjijoijr\"\n",
    "ls = inp.split()\n",
    "ls2 = []\n",
    "for word in ls:\n",
    "    ls2 += [(str(len(word)),word)]\n",
    "ls2.sort(reverse=True)\n",
    "\n",
    "for k,v in ls2:\n",
    "    print(v)\n",
    "\n",
    "\n",
    "#alternate\n",
    "ls=inp.split()\n",
    "ls.sort(key=len,reverse=True)\n",
    "print(ls)"
   ]
  },
  {
   "cell_type": "code",
   "execution_count": null,
   "metadata": {
    "scrolled": true
   },
   "outputs": [],
   "source": [
    "#sorting based on count of words in given file\n",
    "import string\n",
    "string.punctuation\n",
    "\n",
    "try:\n",
    "    fhand = open(\"readfile.txt\")\n",
    "    print(\"read successfully\")\n",
    "except:\n",
    "    exit()\n",
    "\n",
    "res = dict()\n",
    "ls = []\n",
    "for line in fhand:\n",
    "    line = line.rstrip()\n",
    "    line = line.translate(line.maketrans('','',string.punctuation))\n",
    "    line = line.lower()\n",
    "    for word in line.split():\n",
    "        res[word] = res.get(word,0) + 1\n",
    "\n",
    "ls = res.items()\n",
    "res=[]\n",
    "for k,v in ls:\n",
    "    res.append((v,k))\n",
    "\n",
    "fhand.close()\n",
    "res.sort(reverse=True)\n",
    "print(res)"
   ]
  },
  {
   "cell_type": "code",
   "execution_count": null,
   "metadata": {},
   "outputs": [],
   "source": [
    "#sorting based on count of words in given file\n",
    "import string\n",
    "string.punctuation\n",
    "\n",
    "try:\n",
    "    fhand = open(\"readfile.txt\")\n",
    "    print(\"read successfully\")\n",
    "except:\n",
    "    exit()\n",
    "\n",
    "ls = []\n",
    "line = fhand.read()\n",
    "line = line.rstrip()\n",
    "line = line.translate(line.maketrans('','',string.punctuation))\n",
    "line = line.lower()\n",
    "for word in line.split():\n",
    "    if (line.count(word),word) not in ls:\n",
    "        ls.append((line.count(word),word))\n",
    "\n",
    "ls.sort(reverse=True)\n",
    "print(ls)"
   ]
  },
  {
   "cell_type": "markdown",
   "metadata": {},
   "source": [
    "# Sets"
   ]
  },
  {
   "cell_type": "code",
   "execution_count": null,
   "metadata": {},
   "outputs": [],
   "source": [
    "st = set()\n",
    "print(type(st))\n",
    "st = {'apple','banana',45}\n",
    "print(st)\n",
    "st.add(True)\n",
    "print(st)\n",
    "st.remove(True)\n",
    "print(st)\n",
    "st.update([35,78])\n",
    "print(st)"
   ]
  },
  {
   "cell_type": "code",
   "execution_count": null,
   "metadata": {},
   "outputs": [],
   "source": [
    "st = {'apple','banana',45}\n",
    "st.add('apple')\n",
    "st"
   ]
  },
  {
   "cell_type": "code",
   "execution_count": null,
   "metadata": {},
   "outputs": [],
   "source": [
    "#write a program to eliminate repeated entries in a list\n",
    "ls = [12,13,14,12,13,1,62,34,12]\n",
    "st=set()\n",
    "st.update(ls)\n",
    "ls1 = list(st)\n",
    "print(ls1)\n",
    "\n",
    "#alternate\n",
    "ls1 = list(set(ls))\n",
    "print(ls1)"
   ]
  },
  {
   "cell_type": "code",
   "execution_count": 4,
   "metadata": {},
   "outputs": [
    {
     "data": {
      "text/plain": [
       "[(1, 1, 2), (1, 1, 3), (1, 2, 3)]"
      ]
     },
     "execution_count": 4,
     "metadata": {},
     "output_type": "execute_result"
    }
   ],
   "source": [
    "triples = [ (x,y,z) for x in range(1,4) for y in range(x,4) for z in range(y,4) if x+y <= z ]\n",
    "triples"
   ]
  },
  {
   "cell_type": "code",
   "execution_count": 8,
   "metadata": {},
   "outputs": [
    {
     "name": "stdout",
     "output_type": "stream",
     "text": [
      "[('1', 'hari', [('PH101', 'Mechanics', 'C'), ('HU101', 'English', 'B')]), ('2', 'ravi', [('PH101', 'Mechanics', 'A')]), ('3', 'neetu', [('PH101', 'Mechanics', 'B'), ('MA101', 'Calculus', 'A'), ('HU101', 'English', 'C')])]\n"
     ]
    }
   ],
   "source": [
    "#\n",
    "\n",
    "coursedetails = [(\"MA101\",\"Calculus\"),('PH101',\"Mechanics\"),('HU101',\"English\")]\n",
    "studentdetails = [('1','hari'),('2','ravi'),('3','neetu')]\n",
    "gradedetails = [('3','PH101','B'),('3','MA101','A'),('3','HU101','C'),('2','PH101','A'),('1','PH101','C'),('1','HU101','B')]\n",
    "\n",
    "def transcript(cd,sd,gd):\n",
    "    res=[]\n",
    "    \n",
    "    for roll,stname in sd:\n",
    "        corselist = []\n",
    "        for rollnum,code,grade in gd:\n",
    "            if rollnum == roll:\n",
    "                for codenum,course in cd:\n",
    "                    if code == codenum:\n",
    "                        corselist.append((code,course,grade))\n",
    "        res.append((roll,stname,corselist))\n",
    "\n",
    "    return res\n",
    "print(transcript(coursedetails,studentdetails,gradedetails))"
   ]
  },
  {
   "cell_type": "code",
   "execution_count": 13,
   "metadata": {},
   "outputs": [
    {
     "name": "stdout",
     "output_type": "stream",
     "text": [
      "[('1', 'PH101', 'C'), ('1', 'HU101', 'B')]\n",
      "[('2', 'PH101', 'A')]\n",
      "[('3', 'PH101', 'B'), ('3', 'MA101', 'A'), ('3', 'HU101', 'C')]\n",
      "[]\n"
     ]
    }
   ],
   "source": [
    "#alternate\n",
    "\n",
    "coursedetails = [(\"MA101\",\"Calculus\"),('PH101',\"Mechanics\"),('HU101',\"English\")]\n",
    "studentdetails = [('1','hari'),('2','ravi'),('3','neetu')]\n",
    "gradedetails = [('3','PH101','B'),('3','MA101','A'),('3','HU101','C'),('2','PH101','A'),('1','PH101','C'),('1','HU101','B')]\n",
    "\n",
    "def transcript(cd,sd,gd):\n",
    "    res=[]\n",
    "    \n",
    "    for roll,stname in sd:\n",
    "        corselist = list(filter(lambda x:x[0]==roll,gd))\n",
    "        print(corselist)\n",
    "        final = list(map(lambda x:x[0]==1,cd))\n",
    "        res.append((roll,stname,corselist))\n",
    "        #print(corselist)\n",
    "        \n",
    "\n",
    "    return []\n",
    "print(transcript(coursedetails,studentdetails,gradedetails))"
   ]
  }
 ],
 "metadata": {
  "kernelspec": {
   "display_name": "Python 3",
   "language": "python",
   "name": "python3"
  },
  "language_info": {
   "codemirror_mode": {
    "name": "ipython",
    "version": 3
   },
   "file_extension": ".py",
   "mimetype": "text/x-python",
   "name": "python",
   "nbconvert_exporter": "python",
   "pygments_lexer": "ipython3",
   "version": "3.7.1"
  }
 },
 "nbformat": 4,
 "nbformat_minor": 2
}
