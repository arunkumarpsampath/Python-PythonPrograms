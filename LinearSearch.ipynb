{
 "cells": [
  {
   "cell_type": "code",
   "execution_count": 2,
   "metadata": {},
   "outputs": [
    {
     "name": "stdout",
     "output_type": "stream",
     "text": [
      "34 35 57 87 63 98 67\n",
      "90\n",
      "False\n"
     ]
    }
   ],
   "source": [
    "#Linear Search\n",
    "arr = input().split()\n",
    "key = int(input())\n",
    "bol = False\n",
    "for i in range(len(arr)):\n",
    "    if key == int(arr[i]):\n",
    "        bol = True\n",
    "        break\n",
    "        \n",
    "print(bol)"
   ]
  },
  {
   "cell_type": "code",
   "execution_count": 6,
   "metadata": {},
   "outputs": [
    {
     "name": "stdout",
     "output_type": "stream",
     "text": [
      "34 57 85 98 23 39 03 22 18\n",
      "90\n",
      "-1\n"
     ]
    }
   ],
   "source": [
    "#Linear Search\n",
    "def find(arr,key):\n",
    "    for i in range(len(arr)):\n",
    "        if key == int(arr[i]):\n",
    "            return i+1\n",
    "    return -1\n",
    "\n",
    "arr = input().split()\n",
    "key = int(input())\n",
    "print(find(arr,key))"
   ]
  }
 ],
 "metadata": {
  "kernelspec": {
   "display_name": "Python 3",
   "language": "python",
   "name": "python3"
  },
  "language_info": {
   "codemirror_mode": {
    "name": "ipython",
    "version": 3
   },
   "file_extension": ".py",
   "mimetype": "text/x-python",
   "name": "python",
   "nbconvert_exporter": "python",
   "pygments_lexer": "ipython3",
   "version": "3.7.1"
  }
 },
 "nbformat": 4,
 "nbformat_minor": 2
}
