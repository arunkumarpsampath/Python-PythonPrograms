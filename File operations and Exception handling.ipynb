{
 "cells": [
  {
   "cell_type": "code",
   "execution_count": null,
   "metadata": {},
   "outputs": [],
   "source": [
    "#Example of exception handling\n",
    "\n",
    "a = int(input(\"Enter a:\"))\n",
    "\n",
    "while True:\n",
    "    b = int(input(\"Enter b:\"))\n",
    "    try:\n",
    "        x = a/b\n",
    "        break\n",
    "    except:\n",
    "        print(\"Divide by zero not possible, Enter b again\")\n",
    "        \n",
    "print(a,\"/\",b,\"=\",x)"
   ]
  },
  {
   "cell_type": "code",
   "execution_count": null,
   "metadata": {},
   "outputs": [],
   "source": [
    "#opening a file in read mode and print number of lines\n",
    "\n",
    "try:\n",
    "    fhand = open(\"readfile.txt\",'r')\n",
    "    print(\"read file successfully\")\n",
    "except:\n",
    "    print(\"file cannot be opened\")\n",
    "    exit()\n",
    "    \n",
    "count = 0\n",
    "for line in fhand:\n",
    "    count+=1\n",
    "    print(\"Line number \",count,\":\",line)\n",
    "    \n",
    "fhand.close()    \n",
    "print(\"Number of lines  : \",count)"
   ]
  },
  {
   "cell_type": "code",
   "execution_count": null,
   "metadata": {},
   "outputs": [],
   "source": [
    "#opening a file in read mode and print number of words\n",
    "\n",
    "try:\n",
    "    fhand = open(\"readfile.txt\",'r')\n",
    "    print(\"read file successfully\")\n",
    "except:\n",
    "    print(\"file cannot be opened\")\n",
    "    exit()\n",
    "    \n",
    "count = 0\n",
    "for line in fhand:\n",
    "    count+=1\n",
    "    print(\"Line number \",count,\":\",line)\n",
    "    for words in line.split(\" \"):\n",
    "        print(\"Word :\",words)\n",
    "\n",
    "fhand.close()\n",
    "print(\"Number of lines  : \",count)"
   ]
  },
  {
   "cell_type": "code",
   "execution_count": null,
   "metadata": {},
   "outputs": [],
   "source": [
    "#read () to read whole file as single string\n",
    "\n",
    "try:\n",
    "    fhand = open(\"readfile.txt\",'r')\n",
    "    print(\"read file successfully\")\n",
    "except:\n",
    "    print(\"file cannot be opened\")\n",
    "    exit()\n",
    "    \n",
    "s = fhand.read()\n",
    "fhand.close()\n",
    "print(len(s))\n",
    "print('the  file contents :',s)"
   ]
  },
  {
   "cell_type": "code",
   "execution_count": null,
   "metadata": {},
   "outputs": [],
   "source": [
    "#Example to write to a file\n",
    "\n",
    "try:\n",
    "    fhand = open(\"writefile.txt\",'w')\n",
    "except:\n",
    "    print(\"file cannot be opened\")\n",
    "    exit()\n",
    "    \n",
    "for i in range(4):\n",
    "    fhand.write(input(\"Enter string : \")+\"\\n\")\n",
    "    \n",
    "fhand.close()\n",
    "print(\"file written successfully\")\n",
    "\n",
    "try:\n",
    "    fhand = open(\"writefile.txt\")\n",
    "    print(\"read file successfully\")\n",
    "except:\n",
    "    print(\"file cannot be opened\")\n",
    "    exit()\n",
    "                 \n",
    "count = 0\n",
    "for line in fhand:\n",
    "    count+=1\n",
    "    print(\"Line number \",count,\":\",line)\n",
    "    for words in line.split(\" \"):\n",
    "        print(\"Word :\",words)\n",
    "\n",
    "fhand.close()\n",
    "print(\"Number of lines  : \",count)               \n"
   ]
  },
  {
   "cell_type": "code",
   "execution_count": null,
   "metadata": {},
   "outputs": [],
   "source": [
    "#opening a file in read mode and print number of lines,words,characters\n",
    "\n",
    "try:\n",
    "    fhand = open(\"readfile.txt\",'r')\n",
    "    print(\"read file successfully\")\n",
    "except:\n",
    "    print(\"file cannot be opened\")\n",
    "    exit()\n",
    "    \n",
    "linecount = 0\n",
    "wordcount = 0\n",
    "charcount = 0 \n",
    "for line in fhand:\n",
    "    linecount+=1\n",
    "    wordcount+=len(line.split(\" \"))\n",
    "    charcount+=len(line)\n",
    "\n",
    "fhand.close()\n",
    "print(\"Number of lines  : \",linecount)\n",
    "print(\"Number of words  : \",wordcount)\n",
    "print(\"Number of characters  : \",charcount)"
   ]
  },
  {
   "cell_type": "code",
   "execution_count": null,
   "metadata": {},
   "outputs": [],
   "source": [
    "#serach and print line starting with a given word\n",
    "\n",
    "try:\n",
    "    fhand = open(\"readfile.txt\",'r')\n",
    "    print(\"read file successfully\")\n",
    "except:\n",
    "    print(\"file cannot be opened\")\n",
    "    exit()\n",
    "\n",
    "search = input(\"Enter the word to be searched: \")\n",
    "for line in fhand:\n",
    "    if line.startswith(search):\n",
    "        print(line)\n",
    "fhand.close()\n",
    "        "
   ]
  },
  {
   "cell_type": "code",
   "execution_count": null,
   "metadata": {},
   "outputs": [],
   "source": [
    "print(type(dict()))\n",
    "d = {\"hi\":\"hello\"}\n",
    "print(d.get(\"hi\"))\n",
    "d[\"Mango\"] = \"Fruit\"\n",
    "d[\"cucumber\"] = \"veg\"\n",
    "print(d)"
   ]
  },
  {
   "cell_type": "code",
   "execution_count": null,
   "metadata": {},
   "outputs": [],
   "source": [
    "nd = {}\n",
    "nd[\"Fruit\"] = \"Banana\"\n",
    "nd[\"Fruit\"] = \"Mango\"\n",
    "nd[\"veg\"] = \"cucumber\"\n",
    "print(nd[\"Fruit\"])\n",
    "print(len(nd))\n",
    "nd"
   ]
  },
  {
   "cell_type": "code",
   "execution_count": null,
   "metadata": {},
   "outputs": [],
   "source": [
    "'veg' in nd\n"
   ]
  },
  {
   "cell_type": "code",
   "execution_count": null,
   "metadata": {},
   "outputs": [],
   "source": [
    "print(nd.values())\n",
    "print(nd.keys())\n",
    "#to return default value on key not found\n",
    "print(nd.get('veg1',4))"
   ]
  },
  {
   "cell_type": "code",
   "execution_count": null,
   "metadata": {},
   "outputs": [],
   "source": [
    "#to find count of each char in given string\n",
    "inp = input(\"Enter a string : \")\n",
    "d = {}\n",
    "for i in inp:\n",
    "    if d.get(i,0) ==0 or len(d)==0:\n",
    "        d[i] = inp.count(i)\n",
    "        \n",
    "print(d)\n",
    "\n",
    "#alternate\n",
    "d = {}\n",
    "for i in inp:\n",
    "    d[i] = d.get(i,0)+1\n",
    "        \n",
    "print(d)"
   ]
  },
  {
   "cell_type": "code",
   "execution_count": null,
   "metadata": {},
   "outputs": [],
   "source": [
    "try:\n",
    "    fhand = open(\"readfile.txt\")\n",
    "    print(\"read successfully\")\n",
    "except:\n",
    "    exit()\n",
    "\n",
    "res = {}\n",
    "for line in fhand:\n",
    "    for word in line.split():\n",
    "        res[word] = res.get(word,0) + 1\n",
    "print(res)\n",
    "res"
   ]
  },
  {
   "cell_type": "code",
   "execution_count": null,
   "metadata": {},
   "outputs": [],
   "source": [
    "#sorting alphabetically\n",
    "sorted(res)\n",
    "ls = list(res)\n",
    "ls.sort()\n",
    "\n",
    "for k in ls:\n",
    "    print(k, res[k])"
   ]
  },
  {
   "cell_type": "code",
   "execution_count": null,
   "metadata": {},
   "outputs": [],
   "source": [
    "for i,v in res.items():\n",
    "    print(i,v)"
   ]
  },
  {
   "cell_type": "markdown",
   "metadata": {},
   "source": [
    "# Text Parsing"
   ]
  },
  {
   "cell_type": "code",
   "execution_count": null,
   "metadata": {},
   "outputs": [],
   "source": [
    "import string\n",
    "string.punctuation"
   ]
  },
  {
   "cell_type": "code",
   "execution_count": null,
   "metadata": {},
   "outputs": [],
   "source": [
    "try:\n",
    "    fhand = open(\"readfile.txt\")\n",
    "    print(\"read successfully\")\n",
    "except:\n",
    "    exit()\n",
    "\n",
    "res = dict()\n",
    "for line in fhand:\n",
    "    line = line.rstrip()\n",
    "    line = line.translate(line.maketrans('','',string.punctuation))\n",
    "    line = line.lower()\n",
    "    for word in line.split():\n",
    "        res[word] = res.get(word,0) + 1\n",
    "fhand.close()\n",
    "print(res)"
   ]
  },
  {
   "cell_type": "code",
   "execution_count": null,
   "metadata": {},
   "outputs": [],
   "source": [
    "#To check whether contents of list are in ascending\n",
    "def func(res):\n",
    "    prev = 0\n",
    "    for i in res:\n",
    "        if prev > i:\n",
    "            return False\n",
    "        prev = i\n",
    "    return True\n",
    "\n",
    "print(func([7,18,17,19]))\n",
    "print(func([]))\n",
    "print(func([1,3,10,21]))\n",
    "print(func([3,3,4]))\n",
    "\n",
    "#alternate\n",
    "def func(res):\n",
    "    for i in range(len(res)-1):\n",
    "        if res[i] > res[i+1]:\n",
    "            return False\n",
    "        \n",
    "    return True\n",
    "\n",
    "print(func([7,18,17,19]))\n",
    "print(func([]))\n",
    "print(func([1,3,10,21]))\n",
    "print(func([3,3,4]))"
   ]
  },
  {
   "cell_type": "code",
   "execution_count": null,
   "metadata": {},
   "outputs": [],
   "source": [
    "#to print first and last 10 lines of a file\n",
    "\n",
    "try:\n",
    "    fhand = open(\"readfile.txt\")\n",
    "    print(\"read successfully\")\n",
    "except:\n",
    "    exit()\n",
    "\n",
    "lines = fhand.readlines()\n",
    "fhand.close()\n",
    "if(len(lines) < 20):\n",
    "    print(\"very few lines\")\n",
    "else: \n",
    "    print(lines[1:10] + lines[-10:])\n",
    "\n",
    "fhand.close()"
   ]
  },
  {
   "cell_type": "code",
   "execution_count": null,
   "metadata": {},
   "outputs": [],
   "source": [
    "#alternate\n",
    "\n",
    "try:\n",
    "    fhand = open(\"readfile.txt\")\n",
    "    print(\"read successfully\")\n",
    "except:\n",
    "    exit()\n",
    "\n",
    "lines = fhand.read()\n",
    "ls = lines.split('\\n')\n",
    "\n",
    "if(len(ls) < 20):\n",
    "    print(\"very few lines\")\n",
    "    \n",
    "for i in ls[:10]:\n",
    "    print(i)\n",
    "\n",
    "for i in ls[-10:]:\n",
    "    print(i)\n",
    "\n",
    "fhand.close()"
   ]
  },
  {
   "cell_type": "code",
   "execution_count": null,
   "metadata": {},
   "outputs": [],
   "source": [
    "#to copy from one file and write to another file\n",
    "\n",
    "try:\n",
    "    fread = open(\"readfile.txt\")\n",
    "    fwrite = open(\"copyreadfile.txt\",'w')\n",
    "    print(\"read successfully\")\n",
    "except:\n",
    "    exit()\n",
    "    \n",
    "fwrite.write(fread.read())\n",
    "fwrite.close()\n",
    "fread.close()"
   ]
  },
  {
   "cell_type": "code",
   "execution_count": null,
   "metadata": {},
   "outputs": [],
   "source": [
    "#alternate\n",
    "try:\n",
    "    fread = open(\"readfile.txt\")\n",
    "    fwrite = open(\"copyreadfile.txt\",'w')\n",
    "    print(\"read successfully\")\n",
    "except:\n",
    "    exit()\n",
    "    \n",
    "lines = \"\"\n",
    "for i in fread:\n",
    "    fwrite.write(i)\n",
    "            \n",
    "fwrite.close()\n",
    "fread.close()"
   ]
  },
  {
   "cell_type": "code",
   "execution_count": null,
   "metadata": {},
   "outputs": [],
   "source": [
    "d1 = {\"john\" : 40, \"peter\":45}\n",
    "d2 = {\"john\" : 46, \"peter\":45}\n",
    "d1==d2\n",
    "del d1[\"john\"]\n",
    "d1"
   ]
  }
 ],
 "metadata": {
  "kernelspec": {
   "display_name": "Python 3",
   "language": "python",
   "name": "python3"
  },
  "language_info": {
   "codemirror_mode": {
    "name": "ipython",
    "version": 3
   },
   "file_extension": ".py",
   "mimetype": "text/x-python",
   "name": "python",
   "nbconvert_exporter": "python",
   "pygments_lexer": "ipython3",
   "version": "3.7.1"
  }
 },
 "nbformat": 4,
 "nbformat_minor": 2
}
