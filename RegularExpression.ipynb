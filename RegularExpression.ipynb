{
 "cells": [
  {
   "cell_type": "markdown",
   "metadata": {},
   "source": [
    "# Regular Expression"
   ]
  },
  {
   "cell_type": "code",
   "execution_count": null,
   "metadata": {},
   "outputs": [],
   "source": [
    "import re"
   ]
  },
  {
   "cell_type": "code",
   "execution_count": null,
   "metadata": {},
   "outputs": [],
   "source": [
    "try:\n",
    "    fhand = open(\"readfile.txt\")\n",
    "    print(\"read successfully\")\n",
    "except:\n",
    "    exit()\n",
    "\n",
    "for line in fhand:\n",
    "    line = line.rstrip()\n",
    "    if re.search('how',line):\n",
    "        print(line)\n",
    "    if line.find('how') > 0:\n",
    "        print('find:', line)\n",
    "\n",
    "fhand.close()"
   ]
  },
  {
   "cell_type": "code",
   "execution_count": null,
   "metadata": {},
   "outputs": [],
   "source": [
    "#match begin\n",
    "try:\n",
    "    fhand = open(\"readfile.txt\")\n",
    "    print(\"read successfully\")\n",
    "except:\n",
    "    exit()\n",
    "\n",
    "for line in fhand:\n",
    "    line = line.rstrip()\n",
    "    if re.search('^how',line):\n",
    "        print(line)\n",
    "\n",
    "fhand.close()"
   ]
  },
  {
   "cell_type": "code",
   "execution_count": null,
   "metadata": {},
   "outputs": [],
   "source": [
    "#match at the end\n",
    "try:\n",
    "    fhand = open(\"readfile.txt\")\n",
    "    print(\"read successfully\")\n",
    "except:\n",
    "    exit()\n",
    "\n",
    "for line in fhand:\n",
    "    line = line.rstrip()\n",
    "    if re.search('how$',line):\n",
    "        print(line)\n",
    "\n",
    "fhand.close()"
   ]
  },
  {
   "cell_type": "code",
   "execution_count": null,
   "metadata": {},
   "outputs": [],
   "source": [
    "#match any char in between\n",
    "try:\n",
    "    fhand = open(\"readfile.txt\")\n",
    "    print(\"read successfully\")\n",
    "except:\n",
    "    exit()\n",
    "\n",
    "for line in fhand:\n",
    "    line = line.rstrip()\n",
    "    if re.search('h.r',line):\n",
    "        print('line:',line)\n",
    "\n",
    "fhand.close()"
   ]
  },
  {
   "cell_type": "code",
   "execution_count": null,
   "metadata": {},
   "outputs": [],
   "source": [
    "#match any char in between and in beginning\n",
    "try:\n",
    "    fhand = open(\"readfile.txt\")\n",
    "    print(\"read successfully\")\n",
    "except:\n",
    "    exit()\n",
    "\n",
    "for line in fhand:\n",
    "    line = line.rstrip()\n",
    "    if re.search('^s..e',line):\n",
    "        print('line:',line)\n",
    "\n",
    "fhand.close()"
   ]
  },
  {
   "cell_type": "code",
   "execution_count": null,
   "metadata": {},
   "outputs": [],
   "source": [
    "#match digits\n",
    "try:\n",
    "    fhand = open(\"readfile.txt\")\n",
    "    print(\"read successfully\")\n",
    "except:\n",
    "    exit()\n",
    "\n",
    "for line in fhand:\n",
    "    line = line.rstrip()\n",
    "    if re.search('[3].+[3]{2}',line):\n",
    "        print('line:',line)\n",
    "\n",
    "fhand.close()"
   ]
  },
  {
   "cell_type": "code",
   "execution_count": null,
   "metadata": {},
   "outputs": [],
   "source": [
    "#lines starting with 'From' or 'from' and end with 'edu'\n",
    "try:\n",
    "    fhand = open(\"mbox-short.txt\")\n",
    "    print(\"read successfully\")\n",
    "except:\n",
    "    exit()\n",
    "\n",
    "count = 0 \n",
    "for line in fhand:\n",
    "    line = line.rstrip()\n",
    "    if re.search('^[Ff]rom.*edu$',line):\n",
    "        print('line:',line)\n",
    "        count+=1\n",
    "        \n",
    "print(count)\n",
    "fhand.close()"
   ]
  },
  {
   "cell_type": "code",
   "execution_count": null,
   "metadata": {
    "scrolled": false
   },
   "outputs": [],
   "source": [
    "#lines ending with digit\n",
    "try:\n",
    "    fhand = open(\"mbox-short.txt\")\n",
    "    print(\"read successfully\")\n",
    "except:\n",
    "    exit()\n",
    "\n",
    "count = 0 \n",
    "for line in fhand:\n",
    "    count+=1\n",
    "    line = line.rstrip()\n",
    "    if re.search('\\d$',line):  #or if re.search('[0-9]$',line)\n",
    "        print('line ',count,\": \",line)    \n",
    "    \n",
    "        \n",
    "fhand.close()"
   ]
  },
  {
   "cell_type": "code",
   "execution_count": null,
   "metadata": {},
   "outputs": [],
   "source": [
    "#lines starts with anything other than lower case alphabets and digits\n",
    "try:\n",
    "    fhand = open(\"mbox-short.txt\")\n",
    "    print(\"read successfully\")\n",
    "except:\n",
    "    exit()\n",
    "\n",
    "count = 0 \n",
    "for line in fhand:\n",
    "    count+=1\n",
    "    line = line.rstrip()\n",
    "    if re.search('^[^a-z0-9]',line):  #or if re.search('[0-9]$',line)\n",
    "        print('line ',count,\": \",line)    \n",
    "    \n",
    "        \n",
    "fhand.close()"
   ]
  },
  {
   "cell_type": "code",
   "execution_count": null,
   "metadata": {},
   "outputs": [],
   "source": [
    "#lines start with capital letters followed by zero or more char but end with any digit\n",
    "try:\n",
    "    fhand = open(\"mbox-short.txt\")\n",
    "    print(\"read successfully\")\n",
    "except:\n",
    "    exit()\n",
    "\n",
    "count = 0 \n",
    "for line in fhand:\n",
    "    count+=1\n",
    "    line = line.rstrip()\n",
    "    if re.search('^[A-Z].*[\\d]$',line):  \n",
    "        print('line ',count,\": \",line)    \n",
    "    \n",
    "        \n",
    "fhand.close()"
   ]
  },
  {
   "cell_type": "code",
   "execution_count": null,
   "metadata": {},
   "outputs": [],
   "source": [
    "#lines start with capital letters followed by zero or more char but end with any digit\n",
    "try:\n",
    "    fhand = open(\"mbox-short.txt\")\n",
    "    print(\"read successfully\")\n",
    "except:\n",
    "    exit()\n",
    "\n",
    "count = 0 \n",
    "for line in fhand:    \n",
    "    line = line.rstrip()\n",
    "    if re.search('^[A-Z].*\\d$',line):  \n",
    "        print('line ',line)    \n",
    "        count+=1\n",
    "print(count)\n",
    "fhand.close()"
   ]
  },
  {
   "cell_type": "markdown",
   "metadata": {},
   "source": [
    "# Findall()"
   ]
  },
  {
   "cell_type": "code",
   "execution_count": null,
   "metadata": {},
   "outputs": [],
   "source": [
    "s = 'A message from credentials csev@munich.edu to cran@nptel.com about meeting 3@2.PM'\n",
    "\n",
    "lst = re.findall('\\S+@\\S+[.]',s)\n",
    "print(lst)\n",
    "for i in lst:\n",
    "    print(i[i.find('@')+1:])"
   ]
  },
  {
   "cell_type": "code",
   "execution_count": null,
   "metadata": {},
   "outputs": [],
   "source": [
    "#extract all distinct domain of all mail id's\n",
    "try:\n",
    "    fhand = open(\"mbox-short.txt\")\n",
    "    print(\"read successfully\")\n",
    "except:\n",
    "    exit()\n",
    "\n",
    "maillst = [] \n",
    "for line in fhand:    \n",
    "    line = line.rstrip()\n",
    "    maillst += re.findall('[a-zA-Z0-9]+@\\S+[.][a-zA-Z]+',line)\n",
    "\n",
    "print(len(maillst))\n",
    "domainlst = []\n",
    "for i in maillst:\n",
    "    domainlst.append(i[i.find('@')+1:])\n",
    "\n",
    "print(list(set(domainlst)))\n",
    "fhand.close()"
   ]
  },
  {
   "cell_type": "code",
   "execution_count": null,
   "metadata": {},
   "outputs": [],
   "source": [
    "#extract all confidence: digits\n",
    "try:\n",
    "    fhand = open(\"mbox-short.txt\")\n",
    "    print(\"read successfully\")\n",
    "except:\n",
    "    exit()\n",
    "\n",
    "for line in fhand:    \n",
    "    line = line.rstrip()\n",
    "    if re.search('^X\\S*: [0-9.]+',line):\n",
    "        print(line)\n",
    "\n",
    "fhand.close()"
   ]
  },
  {
   "cell_type": "code",
   "execution_count": null,
   "metadata": {},
   "outputs": [],
   "source": [
    "#extract all revision numbers from the hyperlinks in file\n",
    "try:\n",
    "    fhand = open(\"mbox-short.txt\")\n",
    "    print(\"read successfully\")\n",
    "except:\n",
    "    exit()\n",
    "\n",
    "linklist = []\n",
    "for line in fhand:    \n",
    "    line = line.rstrip()\n",
    "    linklist += re.findall('^D.*http:.*',line)\n",
    "\n",
    "\n",
    "for i in linklist:\n",
    "    print(i[i.find('rev=')+4: ])\n",
    "print(len(linklist))\n",
    "fhand.close()"
   ]
  },
  {
   "cell_type": "code",
   "execution_count": null,
   "metadata": {},
   "outputs": [],
   "source": [
    "#alternate\n",
    "\n",
    "try:\n",
    "    fhand = open(\"mbox-short.txt\")\n",
    "    print(\"read successfully\")\n",
    "except:\n",
    "    exit()\n",
    "\n",
    "linklist = []\n",
    "for line in fhand:    \n",
    "    line = line.rstrip()\n",
    "    linklist += re.findall('^D.*http:.*rev=([0-9.]*)',line)\n",
    "\n",
    "print(linklist)\n",
    "fhand.close()"
   ]
  },
  {
   "cell_type": "code",
   "execution_count": 7,
   "metadata": {
    "scrolled": true
   },
   "outputs": [
    {
     "name": "stdout",
     "output_type": "stream",
     "text": [
      "read successfully\n",
      "[('04', 3), ('06', 1), ('07', 1), ('09', 2), ('10', 3), ('11', 6), ('14', 1), ('15', 2), ('16', 4), ('17', 2), ('18', 1), ('19', 1)]\n"
     ]
    },
    {
     "data": {
      "image/png": "[encoded data removed]",
      "text/plain": [
       "<Figure size 432x288 with 1 Axes>"
      ]
     },
     "metadata": {
      "needs_background": "light"
     },
     "output_type": "display_data"
    }
   ],
   "source": [
    "#peak time\n",
    "#import matplotlib.pyplot as plt\n",
    "#import re\n",
    "try:\n",
    "    fhand = open(\"mbox-short.txt\")\n",
    "    print(\"read successfully\")\n",
    "except:\n",
    "    exit()\n",
    "\n",
    "linklist = []\n",
    "for line in fhand:    \n",
    "    line = line.rstrip()\n",
    "    linklist += re.findall('^[Ff]rom.* ([0-9]{2}):[0-9]{2}.*',line)\n",
    "\n",
    "\n",
    "values = list(set(linklist))\n",
    "values.sort()\n",
    "v = []\n",
    "for i in values:\n",
    "    v.append((i,linklist.count(i)))\n",
    "    \n",
    "print(v)\n",
    "plt.hist(linklist)\n",
    "plt.show()\n",
    "fhand.close()"
   ]
  },
  {
   "cell_type": "code",
   "execution_count": 4,
   "metadata": {},
   "outputs": [],
   "source": [
    "import matplotlib.pyplot as plt"
   ]
  },
  {
   "cell_type": "code",
   "execution_count": 1,
   "metadata": {},
   "outputs": [],
   "source": [
    "import re"
   ]
  },
  {
   "cell_type": "code",
   "execution_count": 10,
   "metadata": {},
   "outputs": [
    {
     "name": "stdout",
     "output_type": "stream",
     "text": [
      "read successfully\n",
      "[('16', 28), ('11', 26), ('15', 14), ('09', 14), ('10', 12), ('04', 12), ('21', 8), ('17', 8), ('14', 8), ('19', 6), ('22', 4), ('20', 4), ('18', 4), ('07', 4), ('06', 4), ('23', 2), ('12', 2), ('00', 2)]\n"
     ]
    },
    {
     "data": {
      "image/png": "[encoded data removed]",
      "text/plain": [
       "<Figure size 432x288 with 1 Axes>"
      ]
     },
     "metadata": {
      "needs_background": "light"
     },
     "output_type": "display_data"
    }
   ],
   "source": [
    "#peak time for both sent and recieved\n",
    "\n",
    "try:\n",
    "    fhand = open(\"mbox-short.txt\")\n",
    "    print(\"read successfully\")\n",
    "except:\n",
    "    exit()\n",
    "\n",
    "linklist = []\n",
    "for line in fhand:    \n",
    "    line = line.strip()\n",
    "    lst = re.findall('^[Ff]rom.* ([0-9]{2}):[0-9]{2}.*' + '|' + '^[a-zA-z]{3},.* ([0-9]{2}):.*',line)\n",
    "    if len(lst) > 0 and lst[0][0] !='':\n",
    "        linklist.append(lst[0][0])\n",
    "    elif len(lst) > 0 and lst[0][1] !='':\n",
    "        linklist.append(lst[0][1])\n",
    "linklist.sort()\n",
    "values = list(set(linklist))\n",
    "values.sort()\n",
    "v = []\n",
    "for i in values:\n",
    "    v.append((i,linklist.count(i)))\n",
    "v.sort(key=lambda x:(x[1],x[0]),reverse = True)    \n",
    "print(v)\n",
    "fhand.close()\n",
    "plt.hist(linklist)\n",
    "plt.show()\n",
    "fhand.close()"
   ]
  }
 ],
 "metadata": {
  "kernelspec": {
   "display_name": "Python 3",
   "language": "python",
   "name": "python3"
  },
  "language_info": {
   "codemirror_mode": {
    "name": "ipython",
    "version": 3
   },
   "file_extension": ".py",
   "mimetype": "text/x-python",
   "name": "python",
   "nbconvert_exporter": "python",
   "pygments_lexer": "ipython3",
   "version": "3.7.1"
  }
 },
 "nbformat": 4,
 "nbformat_minor": 2
}
