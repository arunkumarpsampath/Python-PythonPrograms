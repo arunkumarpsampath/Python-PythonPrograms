{
 "cells": [
  {
   "cell_type": "markdown",
   "metadata": {},
   "source": [
    "# Lists"
   ]
  },
  {
   "cell_type": "code",
   "execution_count": null,
   "metadata": {},
   "outputs": [],
   "source": [
    "ls1 = []\n",
    "type(ls1)"
   ]
  },
  {
   "cell_type": "code",
   "execution_count": null,
   "metadata": {},
   "outputs": [],
   "source": [
    "ls2 = [10,-4,\"hi how are you\", [3-4j,True]]\n",
    "print(type(ls2))"
   ]
  },
  {
   "cell_type": "code",
   "execution_count": null,
   "metadata": {},
   "outputs": [],
   "source": [
    "print(ls2[2][5::-1])"
   ]
  },
  {
   "cell_type": "code",
   "execution_count": null,
   "metadata": {},
   "outputs": [],
   "source": [
    "ls = list(range(0,20,2))\n",
    "ls"
   ]
  },
  {
   "cell_type": "code",
   "execution_count": null,
   "metadata": {},
   "outputs": [],
   "source": [
    "n=int(input(\"enter a number\"))\n",
    "ls = list(range(0,10*n+1,n))\n",
    "count = 1\n",
    "for i in ls:\n",
    "    if i!=0:\n",
    "        print(n,\" * \",count,\" = \",i)\n",
    "        count = count +1\n",
    "        \n",
    "#alternate\n",
    "ls = []\n",
    "for i in range(1,11):\n",
    "    ls += [n*i]\n",
    "    \n",
    "print(ls)\n",
    "    \n"
   ]
  },
  {
   "cell_type": "code",
   "execution_count": null,
   "metadata": {},
   "outputs": [],
   "source": [
    "#repetition of list\n",
    "ls = [1,2,3]\n",
    "ls*3"
   ]
  },
  {
   "cell_type": "code",
   "execution_count": null,
   "metadata": {},
   "outputs": [],
   "source": [
    "ls = ['a','b','c','d','e']\n",
    "print(ls[2:4])\n",
    "print(ls[:3])\n",
    "print(ls[1:])\n",
    "print(ls[:])\n",
    "print(ls[:-2])\n",
    "print(ls[::-1])"
   ]
  },
  {
   "cell_type": "code",
   "execution_count": null,
   "metadata": {},
   "outputs": [],
   "source": [
    "ls[3:5] = [14,27]\n",
    "ls"
   ]
  },
  {
   "cell_type": "code",
   "execution_count": null,
   "metadata": {},
   "outputs": [],
   "source": [
    "ls.append(\"hi\")\n",
    "ls"
   ]
  },
  {
   "cell_type": "code",
   "execution_count": null,
   "metadata": {},
   "outputs": [],
   "source": [
    "ls1=[1,2,3]\n",
    "ls2=[5,6]\n",
    "print(ls2+ls1)\n",
    "ls2.extend(ls1)\n",
    "ls2"
   ]
  },
  {
   "cell_type": "code",
   "execution_count": null,
   "metadata": {},
   "outputs": [],
   "source": [
    "ls = [4, 12, -3, 0, 45, 13]\n",
    "ls.sort()\n",
    "ls"
   ]
  },
  {
   "cell_type": "code",
   "execution_count": null,
   "metadata": {},
   "outputs": [],
   "source": [
    "ls = [4, 12, -3, 0, 45, 13]\n",
    "ls.sort(reverse=True)\n",
    "ls"
   ]
  },
  {
   "cell_type": "code",
   "execution_count": null,
   "metadata": {},
   "outputs": [],
   "source": [
    "ls2 = sorted(ls,reverse=True)\n",
    "print(ls2)\n",
    "ls"
   ]
  },
  {
   "cell_type": "code",
   "execution_count": null,
   "metadata": {},
   "outputs": [],
   "source": [
    "ls.reverse()\n",
    "ls"
   ]
  },
  {
   "cell_type": "code",
   "execution_count": null,
   "metadata": {},
   "outputs": [],
   "source": [
    "ls = [4, 12, -3, 0, 45, 13]\n",
    "print(ls)\n",
    "ls.pop()\n",
    "print(ls)\n",
    "ls.pop(1)\n",
    "print(ls)\n",
    "ls.remove(4)\n",
    "print(ls)"
   ]
  },
  {
   "cell_type": "code",
   "execution_count": null,
   "metadata": {},
   "outputs": [],
   "source": [
    "ls = [4, 12, \"hi\",True,-3, 0, 45, 13]\n",
    "del ls[1:3]\n",
    "ls"
   ]
  },
  {
   "cell_type": "code",
   "execution_count": null,
   "metadata": {},
   "outputs": [],
   "source": [
    "ls = [4, 12, \"hi\",True,-3, 0, 45, 13]\n",
    "del ls[1:3]\n",
    "print(ls.count(1))\n",
    "ls.clear()\n",
    "ls"
   ]
  },
  {
   "cell_type": "code",
   "execution_count": null,
   "metadata": {},
   "outputs": [],
   "source": [
    "ls = [1, 2, 3]\n",
    "ls.insert(1,25)\n",
    "ls"
   ]
  },
  {
   "cell_type": "code",
   "execution_count": null,
   "metadata": {},
   "outputs": [],
   "source": [
    "ls=[]\n",
    "for i in range(5):\n",
    "    ls+=[int(input(\"enter number\"))]\n",
    "    \n",
    "ls"
   ]
  },
  {
   "cell_type": "markdown",
   "metadata": {},
   "source": [
    "# Copying  "
   ]
  },
  {
   "cell_type": "code",
   "execution_count": null,
   "metadata": {},
   "outputs": [],
   "source": [
    "#ls.copy() --- shallow copy\n",
    "#ls1 = ls -- deep copy only in python\n",
    "ls = [1, 2, 3]\n",
    "ls1=ls.copy()\n",
    "print(ls)\n",
    "print(ls1)\n",
    "ls1[2]=10\n",
    "print(ls)\n",
    "print(ls1)"
   ]
  },
  {
   "cell_type": "code",
   "execution_count": null,
   "metadata": {},
   "outputs": [],
   "source": [
    "#splitting date into dd , mm ,yyyy\n",
    "date=\"06/12/2017\"\n",
    "ls = date.split(\"/\")\n",
    "ls"
   ]
  },
  {
   "cell_type": "code",
   "execution_count": null,
   "metadata": {},
   "outputs": [],
   "source": [
    "ls=['hello', 'how' , 'are' , 'you']\n",
    "s=' '\n",
    "res = s.join(ls)\n",
    "res"
   ]
  },
  {
   "cell_type": "code",
   "execution_count": null,
   "metadata": {},
   "outputs": [],
   "source": [
    "#to check whether expression is wellbracketed or not s = \"a + b+(c*d)\"\n",
    "\n",
    "def wellbracketed(st):\n",
    "    opencount=0\n",
    "    \n",
    "    if st.count(\"(\") != st.count(\")\"):\n",
    "        return False\n",
    "    else:\n",
    "        for i in st:\n",
    "            if i == \"(\":\n",
    "                opencount += 1\n",
    "            elif i == \")\" and opencount > 0:\n",
    "                opencount = opencount - 1\n",
    "            elif i == \")\" and opencount == 0:\n",
    "                return False\n",
    "        return True\n",
    "\n",
    "s=input('Enter expression: ')\n",
    "print(wellbracketed(s))\n"
   ]
  },
  {
   "cell_type": "code",
   "execution_count": null,
   "metadata": {},
   "outputs": [],
   "source": [
    "\n",
    "#alternate\n",
    "\n",
    "def wellbracketed(st):\n",
    "    depth=0\n",
    "    \n",
    "    for i in st:\n",
    "            if i == \"(\":\n",
    "                depth += 1\n",
    "            elif i == \")\":\n",
    "                depth -=  1\n",
    "            \n",
    "            if depth < 0:\n",
    "                return False\n",
    "    if depth==0:\n",
    "        return True\n",
    "    else:\n",
    "        return False\n",
    "        \n",
    "s=input('Enter expression: ')\n",
    "print(wellbracketed(s))"
   ]
  },
  {
   "cell_type": "code",
   "execution_count": null,
   "metadata": {},
   "outputs": [],
   "source": [
    "def mystery(ls):\n",
    "    if len(ls) < 2:\n",
    "        return ls\n",
    "    else:\n",
    "        return mystery(ls[1:]) + [ls[0]]\n",
    "    \n",
    "mystery([17,12,41,28,25])    "
   ]
  },
  {
   "cell_type": "code",
   "execution_count": null,
   "metadata": {},
   "outputs": [],
   "source": [
    "#list rotation\n",
    "l = [1,2,3,4,5]\n",
    "n=int(input(\"enter number of rotation : \"))\n",
    "\n",
    "def rotatelist(ls,num):\n",
    "    if num < 0:\n",
    "        return ls\n",
    "    for i in range(num):\n",
    "        ls=ls[-1:] + ls[:-1]\n",
    "        \n",
    "    return ls\n",
    "\n",
    "res = rotatelist(l.copy(),n)\n",
    "res"
   ]
  },
  {
   "cell_type": "code",
   "execution_count": null,
   "metadata": {},
   "outputs": [],
   "source": [
    "def f(value, values):\n",
    "    v = 1\n",
    "    values[0] = 44\n",
    "\n",
    "t = 3\n",
    "v = [1,2,3]\n",
    "#for 'value' only value of 't' will be passed and for 'values' the address of 'v' will be passed as it is a list\n",
    "f(t,v)\n",
    "print(t,v[0])"
   ]
  }
 ],
 "metadata": {
  "kernelspec": {
   "display_name": "Python 3",
   "language": "python",
   "name": "python3"
  },
  "language_info": {
   "codemirror_mode": {
    "name": "ipython",
    "version": 3
   },
   "file_extension": ".py",
   "mimetype": "text/x-python",
   "name": "python",
   "nbconvert_exporter": "python",
   "pygments_lexer": "ipython3",
   "version": "3.7.1"
  }
 },
 "nbformat": 4,
 "nbformat_minor": 2
}
