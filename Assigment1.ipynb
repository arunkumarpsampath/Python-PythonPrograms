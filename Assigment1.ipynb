{
 "cells": [
  {
   "cell_type": "code",
   "execution_count": 1,
   "metadata": {},
   "outputs": [
    {
     "name": "stdout",
     "output_type": "stream",
     "text": [
      "Enter a number 40\n",
      "True\n"
     ]
    }
   ],
   "source": [
    "#sum of squares\n",
    "import math\n",
    "def sumofsquares(num):\n",
    "    found = False\n",
    "    for i in range(1,int(math.sqrt(num))):\n",
    "        if (int(math.sqrt(num-i*i)) == float(math.sqrt(num-i*i))):\n",
    "            found = True\n",
    "            break\n",
    "        \n",
    "    return found\n",
    "        \n",
    "print(sumofsquares(int(input(\"Enter a number \"))))\n",
    "        "
   ]
  },
  {
   "cell_type": "code",
   "execution_count": 1,
   "metadata": {},
   "outputs": [
    {
     "name": "stdout",
     "output_type": "stream",
     "text": [
      "Fril\n"
     ]
    }
   ],
   "source": [
    "#2 String made of first 2 and last 2 char\n",
    "string = \"From the head to tail\"\n",
    "def newstring(st):\n",
    "    if len(st) < 2:\n",
    "        return st\n",
    "    else:\n",
    "        return st[:2]+st[-2:]\n",
    "    \n",
    "print(newstring(string))\n"
   ]
  },
  {
   "cell_type": "code",
   "execution_count": 19,
   "metadata": {},
   "outputs": [
    {
     "name": "stdout",
     "output_type": "stream",
     "text": [
      "Hellohowareyou\n",
      "Hellohowareyou\n"
     ]
    },
    {
     "data": {
      "text/plain": [
       "'Hellohowareyou'"
      ]
     },
     "execution_count": 19,
     "metadata": {},
     "output_type": "execute_result"
    }
   ],
   "source": [
    "#remove white spaces\n",
    "\n",
    "\n",
    "def removewhitespaces(s):\n",
    "    x = s.count(\" \")\n",
    "    newst=\"\"\n",
    "    for i in range(x):\n",
    "        newst += s[:s.find(\" \")]\n",
    "        s=s[s.find(\" \")+1:]\n",
    "    newst +=s\n",
    "    return newst\n",
    "    \n",
    "st = \"Hello how are you\"\n",
    "print(removewhitespaces(st))\n",
    "#alternate\n",
    "def removewhitespaces(s):\n",
    "    newst=\"\"\n",
    "    for i in st.split(\" \"):\n",
    "        newst += i\n",
    "    return newst\n",
    "\n",
    "print(removewhitespaces(st))\n",
    "#alternate\n",
    "st.replace(\" \",'')   "
   ]
  },
  {
   "cell_type": "code",
   "execution_count": 12,
   "metadata": {},
   "outputs": [
    {
     "name": "stdout",
     "output_type": "stream",
     "text": [
      "Hellohowareyou\n"
     ]
    }
   ],
   "source": [
    "#remove white spaces\n",
    "st = \"Hello how are you\"\n",
    "\n",
    "for i in st:\n",
    "    if i!=\" \":\n",
    "        st = st[1:]+st[0]\n",
    "    else:\n",
    "        st = st[1:]\n",
    "        \n",
    "print(st)"
   ]
  },
  {
   "cell_type": "code",
   "execution_count": 21,
   "metadata": {
    "scrolled": true
   },
   "outputs": [
    {
     "name": "stdout",
     "output_type": "stream",
     "text": [
      "Hlohwaeyu\n"
     ]
    },
    {
     "data": {
      "text/plain": [
       "'Hlohwaeyu'"
      ]
     },
     "execution_count": 21,
     "metadata": {},
     "output_type": "execute_result"
    }
   ],
   "source": [
    "#remove char in odd index values\n",
    "st = \"Hello how are you\"\n",
    "newst=\"\"\n",
    "for i in range(0,len(st)):\n",
    "    if i%2==0:\n",
    "        newst += st[i:i+1]\n",
    "        \n",
    "print(newst)\n",
    "\n",
    "#alternate\n",
    "st[::2]"
   ]
  },
  {
   "cell_type": "code",
   "execution_count": 22,
   "metadata": {},
   "outputs": [
    {
     "name": "stdout",
     "output_type": "stream",
     "text": [
      "uello how are yoH\n",
      "uello how are yoH\n"
     ]
    }
   ],
   "source": [
    "#exchange first and last characters\n",
    "st = \"Hello how are you\"\n",
    "st = st[-1:-2:-1] + st[1:-1] +st[0:1]\n",
    "print(st)\n",
    "#alternate\n",
    "st = \"Hello how are you\"\n",
    "st = st[-1] + st[1:-1] +st[0]\n",
    "print(st)"
   ]
  },
  {
   "cell_type": "code",
   "execution_count": 92,
   "metadata": {},
   "outputs": [
    {
     "name": "stdout",
     "output_type": "stream",
     "text": [
      "Hello\n",
      "are\n",
      "you\n"
     ]
    }
   ],
   "source": [
    "#palindrome words in a string\n",
    "st = \"Hello how are you olleH era uoy\"\n",
    "pos=0\n",
    "for i in range(st.count(\" \")):\n",
    "    word = st[pos:st.find(\" \")]    \n",
    "    if st.find(word[::-1]) >= 0:        \n",
    "        st = st[st.find(\" \")+1:]\n",
    "        print(word)\n",
    "    else:    \n",
    "        st = st[st.find(\" \")+1:]"
   ]
  },
  {
   "cell_type": "code",
   "execution_count": 2,
   "metadata": {},
   "outputs": [
    {
     "name": "stdout",
     "output_type": "stream",
     "text": [
      "MalayalaM\n",
      "level\n",
      "civic\n"
     ]
    }
   ],
   "source": [
    "#palindrome words in a string\n",
    "st = \"MalayalaM level civic how are\"\n",
    "pos=0\n",
    "for i in range(st.count(\" \")):\n",
    "    word = st[pos:st.find(\" \")]    \n",
    "    if word[::-1] == word:        \n",
    "        st = st[st.find(\" \")+1:]\n",
    "        print(word)\n",
    "    else:    \n",
    "        st = st[st.find(\" \")+1:]"
   ]
  },
  {
   "cell_type": "code",
   "execution_count": 12,
   "metadata": {},
   "outputs": [
    {
     "name": "stdout",
     "output_type": "stream",
     "text": [
      "MalayalaM\n",
      "level\n",
      "i\n",
      "civic\n"
     ]
    }
   ],
   "source": [
    "#palindrome words in a string\n",
    "st = \"MalayalaM level i civic how are\"\n",
    "\n",
    "for i in st.split(\" \"):\n",
    "    if i == i[::-1]:        \n",
    "        print(i)"
   ]
  }
 ],
 "metadata": {
  "kernelspec": {
   "display_name": "Python 3",
   "language": "python",
   "name": "python3"
  },
  "language_info": {
   "codemirror_mode": {
    "name": "ipython",
    "version": 3
   },
   "file_extension": ".py",
   "mimetype": "text/x-python",
   "name": "python",
   "nbconvert_exporter": "python",
   "pygments_lexer": "ipython3",
   "version": "3.7.1"
  }
 },
 "nbformat": 4,
 "nbformat_minor": 2
}
