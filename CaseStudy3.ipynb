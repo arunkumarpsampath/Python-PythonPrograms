{
 "cells": [
  {
   "cell_type": "code",
   "execution_count": 4,
   "metadata": {},
   "outputs": [],
   "source": [
    "import numpy as np,pandas as pd"
   ]
  },
  {
   "cell_type": "code",
   "execution_count": 6,
   "metadata": {},
   "outputs": [
    {
     "data": {
      "text/html": [
       "<div>\n",
       "<style scoped>\n",
       "    .dataframe tbody tr th:only-of-type {\n",
       "        vertical-align: middle;\n",
       "    }\n",
       "\n",
       "    .dataframe tbody tr th {\n",
       "        vertical-align: top;\n",
       "    }\n",
       "\n",
       "    .dataframe thead th {\n",
       "        text-align: right;\n",
       "    }\n",
       "</style>\n",
       "<table border=\"1\" class=\"dataframe\">\n",
       "  <thead>\n",
       "    <tr style=\"text-align: right;\">\n",
       "      <th></th>\n",
       "      <th>county</th>\n",
       "      <th>state</th>\n",
       "      <th>total</th>\n",
       "      <th>Obama</th>\n",
       "      <th>Romney</th>\n",
       "      <th>winner</th>\n",
       "      <th>voters</th>\n",
       "      <th>turnout</th>\n",
       "      <th>margin</th>\n",
       "    </tr>\n",
       "  </thead>\n",
       "  <tbody>\n",
       "    <tr>\n",
       "      <th>0</th>\n",
       "      <td>Adams</td>\n",
       "      <td>PA</td>\n",
       "      <td>41973</td>\n",
       "      <td>35.482334</td>\n",
       "      <td>63.112001</td>\n",
       "      <td>Romney</td>\n",
       "      <td>61156</td>\n",
       "      <td>68.632677</td>\n",
       "      <td>27.629667</td>\n",
       "    </tr>\n",
       "    <tr>\n",
       "      <th>1</th>\n",
       "      <td>Allegheny</td>\n",
       "      <td>PA</td>\n",
       "      <td>614671</td>\n",
       "      <td>56.640219</td>\n",
       "      <td>42.185820</td>\n",
       "      <td>Obama</td>\n",
       "      <td>924351</td>\n",
       "      <td>66.497575</td>\n",
       "      <td>14.454399</td>\n",
       "    </tr>\n",
       "    <tr>\n",
       "      <th>2</th>\n",
       "      <td>Armstrong</td>\n",
       "      <td>PA</td>\n",
       "      <td>28322</td>\n",
       "      <td>30.696985</td>\n",
       "      <td>67.901278</td>\n",
       "      <td>Romney</td>\n",
       "      <td>42147</td>\n",
       "      <td>67.198140</td>\n",
       "      <td>37.204293</td>\n",
       "    </tr>\n",
       "    <tr>\n",
       "      <th>3</th>\n",
       "      <td>Beaver</td>\n",
       "      <td>PA</td>\n",
       "      <td>80015</td>\n",
       "      <td>46.032619</td>\n",
       "      <td>52.637630</td>\n",
       "      <td>Romney</td>\n",
       "      <td>115157</td>\n",
       "      <td>69.483401</td>\n",
       "      <td>6.605012</td>\n",
       "    </tr>\n",
       "    <tr>\n",
       "      <th>4</th>\n",
       "      <td>Bedford</td>\n",
       "      <td>PA</td>\n",
       "      <td>21444</td>\n",
       "      <td>22.057452</td>\n",
       "      <td>76.986570</td>\n",
       "      <td>Romney</td>\n",
       "      <td>32189</td>\n",
       "      <td>66.619031</td>\n",
       "      <td>54.929118</td>\n",
       "    </tr>\n",
       "  </tbody>\n",
       "</table>\n",
       "</div>"
      ],
      "text/plain": [
       "      county state   total      Obama     Romney  winner  voters    turnout  \\\n",
       "0      Adams    PA   41973  35.482334  63.112001  Romney   61156  68.632677   \n",
       "1  Allegheny    PA  614671  56.640219  42.185820   Obama  924351  66.497575   \n",
       "2  Armstrong    PA   28322  30.696985  67.901278  Romney   42147  67.198140   \n",
       "3     Beaver    PA   80015  46.032619  52.637630  Romney  115157  69.483401   \n",
       "4    Bedford    PA   21444  22.057452  76.986570  Romney   32189  66.619031   \n",
       "\n",
       "      margin  \n",
       "0  27.629667  \n",
       "1  14.454399  \n",
       "2  37.204293  \n",
       "3   6.605012  \n",
       "4  54.929118  "
      ]
     },
     "execution_count": 6,
     "metadata": {},
     "output_type": "execute_result"
    }
   ],
   "source": [
    "elections = pd.read_csv(\"D:/Python_programming/Dataset/2012 US election results (Pennsylvania).csv\")\n",
    "elections.head()"
   ]
  },
  {
   "cell_type": "code",
   "execution_count": null,
   "metadata": {},
   "outputs": [],
   "source": [
    "print(elections.head())\n",
    "print(elections.info())\n",
    "print(elections.describe())"
   ]
  },
  {
   "cell_type": "code",
   "execution_count": null,
   "metadata": {},
   "outputs": [],
   "source": [
    "#elections[(elections.loc[:,0] == 'Bedford'),0:]\n",
    "elections.loc[(elections.iloc[:,0] == 'Bedford'), 'winner']\n"
   ]
  },
  {
   "cell_type": "code",
   "execution_count": null,
   "metadata": {},
   "outputs": [],
   "source": [
    "#alternate\n",
    "elections = elections.set_index('county')\n",
    "elections.head()\n"
   ]
  },
  {
   "cell_type": "code",
   "execution_count": null,
   "metadata": {},
   "outputs": [],
   "source": [
    "elections.loc['Bedford','winner']"
   ]
  },
  {
   "cell_type": "code",
   "execution_count": null,
   "metadata": {},
   "outputs": [],
   "source": [
    "elections.iloc[4,4]"
   ]
  },
  {
   "cell_type": "code",
   "execution_count": null,
   "metadata": {},
   "outputs": [],
   "source": [
    "results = pd.DataFrame(elections, columns = ['winner','total','voters'])\n",
    "results.head()"
   ]
  },
  {
   "cell_type": "code",
   "execution_count": null,
   "metadata": {},
   "outputs": [],
   "source": [
    "p_counties = elections.loc['Perry':'Potter',:]\n",
    "p_counties"
   ]
  },
  {
   "cell_type": "code",
   "execution_count": null,
   "metadata": {},
   "outputs": [],
   "source": [
    "p_counties_rev = p_counties.iloc[::-1,:]\n",
    "p_counties_rev"
   ]
  },
  {
   "cell_type": "code",
   "execution_count": null,
   "metadata": {},
   "outputs": [],
   "source": [
    "left_columns = elections.loc[:,:'Obama']\n",
    "left_columns.head()"
   ]
  },
  {
   "cell_type": "code",
   "execution_count": null,
   "metadata": {},
   "outputs": [],
   "source": [
    "middle_columns = elections.loc[:,'Obama':'winner']\n",
    "middle_columns.head()"
   ]
  },
  {
   "cell_type": "code",
   "execution_count": null,
   "metadata": {},
   "outputs": [],
   "source": [
    "right_columns = elections.loc[:,'Romney':]\n",
    "right_columns.head()"
   ]
  },
  {
   "cell_type": "code",
   "execution_count": null,
   "metadata": {},
   "outputs": [],
   "source": [
    "rows = ['Philadelphia', 'Centre', 'Fulton']\n",
    "columns = ['winner', 'Obama', 'Romney']\n",
    "three_counties = elections.loc[rows,columns]\n",
    "three_counties"
   ]
  },
  {
   "cell_type": "code",
   "execution_count": null,
   "metadata": {},
   "outputs": [],
   "source": [
    "high_turnout = elections.loc[:,'turnout'] > 70\n",
    "high_turnout_df = elections.loc[high_turnout,:]\n",
    "high_turnout_df"
   ]
  },
  {
   "cell_type": "code",
   "execution_count": null,
   "metadata": {},
   "outputs": [],
   "source": [
    "too_close = elections.loc[:,'margin'] < 1\n",
    "print(too_close.head())\n",
    "elections.loc[too_close,'winner'] = np.NAN\n",
    "elections.info()"
   ]
  },
  {
   "cell_type": "code",
   "execution_count": null,
   "metadata": {},
   "outputs": [],
   "source": [
    "p_counties[::-1]"
   ]
  },
  {
   "cell_type": "code",
   "execution_count": null,
   "metadata": {},
   "outputs": [],
   "source": [
    "p_counties.loc[:,::-1]"
   ]
  },
  {
   "cell_type": "code",
   "execution_count": null,
   "metadata": {},
   "outputs": [],
   "source": [
    "titanic = pd.read_csv(\"D:/Python_programming/Dataset/titanic.csv\")\n",
    "titanic.head()"
   ]
  },
  {
   "cell_type": "code",
   "execution_count": null,
   "metadata": {},
   "outputs": [],
   "source": [
    "df = titanic[['age','cabin']]\n",
    "df.head()"
   ]
  },
  {
   "cell_type": "code",
   "execution_count": null,
   "metadata": {
    "scrolled": true
   },
   "outputs": [],
   "source": [
    "print(df.shape)\n",
    "df1 = df.dropna(how = 'any')\n",
    "print(df1.shape)"
   ]
  },
  {
   "cell_type": "code",
   "execution_count": null,
   "metadata": {},
   "outputs": [],
   "source": [
    "df.info()"
   ]
  },
  {
   "cell_type": "code",
   "execution_count": null,
   "metadata": {},
   "outputs": [],
   "source": [
    "print(df.shape)\n",
    "df2 = df.dropna(how = 'all')\n",
    "print(df2.shape)"
   ]
  },
  {
   "cell_type": "code",
   "execution_count": null,
   "metadata": {},
   "outputs": [],
   "source": [
    "titanic.info()"
   ]
  },
  {
   "cell_type": "code",
   "execution_count": null,
   "metadata": {},
   "outputs": [],
   "source": [
    "titanic.dropna(thresh=1000,axis=1).info()"
   ]
  },
  {
   "cell_type": "code",
   "execution_count": null,
   "metadata": {
    "scrolled": true
   },
   "outputs": [],
   "source": [
    "titanic.dropna(axis=0).info()"
   ]
  },
  {
   "cell_type": "code",
   "execution_count": null,
   "metadata": {},
   "outputs": [],
   "source": [
    "titanic.dropna(thresh=10).info()"
   ]
  },
  {
   "cell_type": "code",
   "execution_count": null,
   "metadata": {},
   "outputs": [],
   "source": [
    "weather = pd.read_csv(\"D:/Python_programming/Dataset/Pittsburgh weather data.csv\")\n",
    "weather.head()"
   ]
  },
  {
   "cell_type": "code",
   "execution_count": null,
   "metadata": {},
   "outputs": [],
   "source": [
    "def to_celcius(fahr):\n",
    "    return (fahr - 32)*(5/9)\n",
    "\n",
    "weather.loc[:,'Mean TemperatureC'] = to_celcius(weather.iloc[:,2])\n",
    "weather.loc[:,'Mean Dew PointC'] = to_celcius(weather.iloc[:,5])\n",
    "weather.head()"
   ]
  },
  {
   "cell_type": "code",
   "execution_count": null,
   "metadata": {},
   "outputs": [],
   "source": [
    "#alternate\n",
    "\n",
    "weather[['Mean TemperatureC','Mean Dew PointC']] = weather[['Mean TemperatureF','Mean Dew PointF']].apply(to_celcius)\n",
    "weather.head()\n"
   ]
  },
  {
   "cell_type": "code",
   "execution_count": null,
   "metadata": {},
   "outputs": [],
   "source": [
    "dictionary = {'Obama':'blue','Romney':'red'}\n",
    "elections['color'] = elections['winner'].map(dictionary)\n",
    "elections.head()"
   ]
  },
  {
   "cell_type": "code",
   "execution_count": 7,
   "metadata": {},
   "outputs": [],
   "source": [
    "from scipy.stats import zscore"
   ]
  },
  {
   "cell_type": "code",
   "execution_count": 15,
   "metadata": {
    "scrolled": false
   },
   "outputs": [
    {
     "name": "stdout",
     "output_type": "stream",
     "text": [
      "      county state   total      Obama     Romney  winner  voters    turnout  \\\n",
      "0      Adams    PA   41973  35.482334  63.112001  Romney   61156  68.632677   \n",
      "1  Allegheny    PA  614671  56.640219  42.185820   Obama  924351  66.497575   \n",
      "2  Armstrong    PA   28322  30.696985  67.901278  Romney   42147  67.198140   \n",
      "3     Beaver    PA   80015  46.032619  52.637630  Romney  115157  69.483401   \n",
      "4    Bedford    PA   21444  22.057452  76.986570  Romney   32189  66.619031   \n",
      "\n",
      "      margin  turnout_zscore  \n",
      "0  27.629667        0.853734  \n",
      "1  14.454399        0.439846  \n",
      "2  37.204293        0.575650  \n",
      "3   6.605012        1.018647  \n",
      "4  54.929118        0.463391  \n"
     ]
    },
    {
     "data": {
      "text/plain": [
       "pandas.core.series.Series"
      ]
     },
     "execution_count": 15,
     "metadata": {},
     "output_type": "execute_result"
    }
   ],
   "source": [
    "elections['turnout_zscore'] = zscore(elections['turnout'])\n",
    "print(elections.head())\n",
    "type(elections['turnout_zscore'])"
   ]
  }
 ],
 "metadata": {
  "kernelspec": {
   "display_name": "Python 3",
   "language": "python",
   "name": "python3"
  },
  "language_info": {
   "codemirror_mode": {
    "name": "ipython",
    "version": 3
   },
   "file_extension": ".py",
   "mimetype": "text/x-python",
   "name": "python",
   "nbconvert_exporter": "python",
   "pygments_lexer": "ipython3",
   "version": "3.7.1"
  }
 },
 "nbformat": 4,
 "nbformat_minor": 2
}
