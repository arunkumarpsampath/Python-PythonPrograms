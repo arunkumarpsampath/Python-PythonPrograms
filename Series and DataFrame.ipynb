{
 "cells": [
  {
   "cell_type": "code",
   "execution_count": 2,
   "metadata": {},
   "outputs": [],
   "source": [
    "import pandas as pd"
   ]
  },
  {
   "cell_type": "code",
   "execution_count": 4,
   "metadata": {},
   "outputs": [
    {
     "data": {
      "text/plain": [
       "Infosys         1200\n",
       "Wipro           1567\n",
       "Ibm             1900\n",
       "Tcs             1827\n",
       "Techmahindra    1404\n",
       "dtype: int64"
      ]
     },
     "execution_count": 4,
     "metadata": {},
     "output_type": "execute_result"
    }
   ],
   "source": [
    "dict1= dict()\n",
    "dict1 = {'Infosys':1200,'Wipro':1567,'Ibm':1900,'Tcs':1827,'Techmahindra':1404}\n",
    "series3 = pd.Series(dict1)\n",
    "series3"
   ]
  },
  {
   "cell_type": "code",
   "execution_count": 5,
   "metadata": {},
   "outputs": [
    {
     "name": "stdout",
     "output_type": "stream",
     "text": [
      "1567\n"
     ]
    },
    {
     "data": {
      "text/plain": [
       "Infosys         1200\n",
       "Wipro           1567\n",
       "Ibm             1400\n",
       "Tcs             1827\n",
       "Techmahindra    1404\n",
       "dtype: int64"
      ]
     },
     "execution_count": 5,
     "metadata": {},
     "output_type": "execute_result"
    }
   ],
   "source": [
    "print(series3['Wipro'])\n",
    "series3[2] = 1400\n",
    "series3"
   ]
  },
  {
   "cell_type": "code",
   "execution_count": 25,
   "metadata": {},
   "outputs": [
    {
     "data": {
      "text/plain": [
       "Infosys    1200\n",
       "Wipro      1567\n",
       "dtype: int64"
      ]
     },
     "execution_count": 25,
     "metadata": {},
     "output_type": "execute_result"
    }
   ],
   "source": [
    "series3[:2]"
   ]
  },
  {
   "cell_type": "code",
   "execution_count": 31,
   "metadata": {
    "scrolled": true
   },
   "outputs": [
    {
     "name": "stdout",
     "output_type": "stream",
     "text": [
      "Infosys         True\n",
      "Wipro           True\n",
      "Ibm             True\n",
      "Tcs             True\n",
      "Techmahindra    True\n",
      "dtype: bool\n"
     ]
    },
    {
     "data": {
      "text/plain": [
       "Wipro           1567\n",
       "Ibm             1400\n",
       "Tcs             1827\n",
       "Techmahindra    1404\n",
       "dtype: int64"
      ]
     },
     "execution_count": 31,
     "metadata": {},
     "output_type": "execute_result"
    }
   ],
   "source": [
    "print(series3 > 200)\n",
    "\n",
    "series3[series3>1300]"
   ]
  },
  {
   "cell_type": "code",
   "execution_count": 33,
   "metadata": {},
   "outputs": [
    {
     "data": {
      "text/plain": [
       "Infosys         1440000\n",
       "Wipro           2455489\n",
       "Ibm             1960000\n",
       "Tcs             3337929\n",
       "Techmahindra    1971216\n",
       "dtype: int64"
      ]
     },
     "execution_count": 33,
     "metadata": {},
     "output_type": "execute_result"
    }
   ],
   "source": [
    "ser4 = series3 * series3\n",
    "ser4"
   ]
  },
  {
   "cell_type": "code",
   "execution_count": 35,
   "metadata": {},
   "outputs": [
    {
     "data": {
      "text/plain": [
       "Wipro           2455489\n",
       "Ibm             1960000\n",
       "Tcs             3337929\n",
       "Techmahindra    1971216\n",
       "dtype: int64"
      ]
     },
     "execution_count": 35,
     "metadata": {},
     "output_type": "execute_result"
    }
   ],
   "source": [
    "ser4[1:]"
   ]
  },
  {
   "cell_type": "code",
   "execution_count": 37,
   "metadata": {},
   "outputs": [
    {
     "data": {
      "text/plain": [
       "Infosys    1440000\n",
       "Wipro      2455489\n",
       "Ibm        1960000\n",
       "Tcs        3337929\n",
       "dtype: int64"
      ]
     },
     "execution_count": 37,
     "metadata": {},
     "output_type": "execute_result"
    }
   ],
   "source": [
    "ser4[:-1]"
   ]
  },
  {
   "cell_type": "code",
   "execution_count": 44,
   "metadata": {},
   "outputs": [
    {
     "data": {
      "text/plain": [
       "pandas.core.series.Series"
      ]
     },
     "execution_count": 44,
     "metadata": {},
     "output_type": "execute_result"
    }
   ],
   "source": [
    "ser3 = ser4[1:] + ser4[:-1]\n",
    "type(ser3)"
   ]
  },
  {
   "cell_type": "code",
   "execution_count": 122,
   "metadata": {
    "scrolled": true
   },
   "outputs": [
    {
     "data": {
      "text/html": [
       "<div>\n",
       "<style scoped>\n",
       "    .dataframe tbody tr th:only-of-type {\n",
       "        vertical-align: middle;\n",
       "    }\n",
       "\n",
       "    .dataframe tbody tr th {\n",
       "        vertical-align: top;\n",
       "    }\n",
       "\n",
       "    .dataframe thead th {\n",
       "        text-align: right;\n",
       "    }\n",
       "</style>\n",
       "<table border=\"1\" class=\"dataframe\">\n",
       "  <thead>\n",
       "    <tr style=\"text-align: right;\">\n",
       "      <th></th>\n",
       "      <th>Infosys</th>\n",
       "      <th>Wipro</th>\n",
       "      <th>Ibm</th>\n",
       "      <th>Tcs</th>\n",
       "      <th>Techmahindra</th>\n",
       "    </tr>\n",
       "  </thead>\n",
       "  <tbody>\n",
       "    <tr>\n",
       "      <th>day1</th>\n",
       "      <td>1100</td>\n",
       "      <td>2100</td>\n",
       "      <td>3100</td>\n",
       "      <td>4100</td>\n",
       "      <td>5100</td>\n",
       "    </tr>\n",
       "    <tr>\n",
       "      <th>day2</th>\n",
       "      <td>1105</td>\n",
       "      <td>2105</td>\n",
       "      <td>3105</td>\n",
       "      <td>4105</td>\n",
       "      <td>5105</td>\n",
       "    </tr>\n",
       "    <tr>\n",
       "      <th>day3</th>\n",
       "      <td>1190</td>\n",
       "      <td>2190</td>\n",
       "      <td>3190</td>\n",
       "      <td>4190</td>\n",
       "      <td>5190</td>\n",
       "    </tr>\n",
       "    <tr>\n",
       "      <th>day4</th>\n",
       "      <td>1200</td>\n",
       "      <td>2200</td>\n",
       "      <td>3200</td>\n",
       "      <td>4200</td>\n",
       "      <td>5200</td>\n",
       "    </tr>\n",
       "    <tr>\n",
       "      <th>day5</th>\n",
       "      <td>1145</td>\n",
       "      <td>2145</td>\n",
       "      <td>3145</td>\n",
       "      <td>4145</td>\n",
       "      <td>5145</td>\n",
       "    </tr>\n",
       "    <tr>\n",
       "      <th>day6</th>\n",
       "      <td>1300</td>\n",
       "      <td>2300</td>\n",
       "      <td>3300</td>\n",
       "      <td>4300</td>\n",
       "      <td>5300</td>\n",
       "    </tr>\n",
       "  </tbody>\n",
       "</table>\n",
       "</div>"
      ],
      "text/plain": [
       "      Infosys  Wipro   Ibm   Tcs  Techmahindra\n",
       "day1     1100   2100  3100  4100          5100\n",
       "day2     1105   2105  3105  4105          5105\n",
       "day3     1190   2190  3190  4190          5190\n",
       "day4     1200   2200  3200  4200          5200\n",
       "day5     1145   2145  3145  4145          5145\n",
       "day6     1300   2300  3300  4300          5300"
      ]
     },
     "execution_count": 122,
     "metadata": {},
     "output_type": "execute_result"
    }
   ],
   "source": [
    "##Dataframes\n",
    "dict1 = {'Infosys':pd.Series({\"day1\":1100,\"day2\" : 1105,\"day3\": 1190,\"day4\": 1200,\"day5\": 1145,\"day6\":1300}),\n",
    "         'Wipro':pd.Series({\"day1\":2100,\"day2\" : 2105,\"day3\": 2190,\"day4\": 2200,\"day5\": 2145,\"day6\":2300}),\n",
    "         'Ibm':pd.Series({\"day1\":3100,\"day2\" : 3105,\"day3\": 3190,\"day4\": 3200,\"day5\": 3145,\"day6\":3300}),\n",
    "         'Tcs':pd.Series({\"day1\":4100,\"day2\" : 4105,\"day3\": 4190,\"day4\": 4200,\"day5\": 4145,\"day6\":4300}),\n",
    "         'Techmahindra':pd.Series({\"day1\":5100,\"day2\" : 5105,\"day3\": 5190,\"day4\": 5200,\"day5\": 5145,\"day6\":5300})}\n",
    "\n",
    "seriesofseries = pd.Series(dict1)\n",
    "pd.DataFrame(seriesofseries)"
   ]
  },
  {
   "cell_type": "code",
   "execution_count": 6,
   "metadata": {},
   "outputs": [
    {
     "data": {
      "text/html": [
       "<div>\n",
       "<style scoped>\n",
       "    .dataframe tbody tr th:only-of-type {\n",
       "        vertical-align: middle;\n",
       "    }\n",
       "\n",
       "    .dataframe tbody tr th {\n",
       "        vertical-align: top;\n",
       "    }\n",
       "\n",
       "    .dataframe thead th {\n",
       "        text-align: right;\n",
       "    }\n",
       "</style>\n",
       "<table border=\"1\" class=\"dataframe\">\n",
       "  <thead>\n",
       "    <tr style=\"text-align: right;\">\n",
       "      <th></th>\n",
       "      <th>Infosys</th>\n",
       "      <th>Wipro</th>\n",
       "      <th>Ibm</th>\n",
       "      <th>Tcs</th>\n",
       "      <th>Techmahindra</th>\n",
       "    </tr>\n",
       "  </thead>\n",
       "  <tbody>\n",
       "    <tr>\n",
       "      <th>0</th>\n",
       "      <td>1100</td>\n",
       "      <td>2100</td>\n",
       "      <td>3100</td>\n",
       "      <td>4100</td>\n",
       "      <td>5100</td>\n",
       "    </tr>\n",
       "    <tr>\n",
       "      <th>1</th>\n",
       "      <td>1105</td>\n",
       "      <td>2105</td>\n",
       "      <td>3105</td>\n",
       "      <td>4105</td>\n",
       "      <td>5105</td>\n",
       "    </tr>\n",
       "    <tr>\n",
       "      <th>2</th>\n",
       "      <td>1190</td>\n",
       "      <td>2190</td>\n",
       "      <td>3190</td>\n",
       "      <td>4190</td>\n",
       "      <td>5190</td>\n",
       "    </tr>\n",
       "    <tr>\n",
       "      <th>3</th>\n",
       "      <td>1200</td>\n",
       "      <td>2200</td>\n",
       "      <td>3200</td>\n",
       "      <td>4200</td>\n",
       "      <td>5200</td>\n",
       "    </tr>\n",
       "    <tr>\n",
       "      <th>4</th>\n",
       "      <td>1145</td>\n",
       "      <td>2145</td>\n",
       "      <td>3145</td>\n",
       "      <td>4145</td>\n",
       "      <td>5145</td>\n",
       "    </tr>\n",
       "    <tr>\n",
       "      <th>5</th>\n",
       "      <td>1300</td>\n",
       "      <td>2300</td>\n",
       "      <td>3300</td>\n",
       "      <td>4300</td>\n",
       "      <td>5300</td>\n",
       "    </tr>\n",
       "  </tbody>\n",
       "</table>\n",
       "</div>"
      ],
      "text/plain": [
       "   Infosys  Wipro   Ibm   Tcs  Techmahindra\n",
       "0     1100   2100  3100  4100          5100\n",
       "1     1105   2105  3105  4105          5105\n",
       "2     1190   2190  3190  4190          5190\n",
       "3     1200   2200  3200  4200          5200\n",
       "4     1145   2145  3145  4145          5145\n",
       "5     1300   2300  3300  4300          5300"
      ]
     },
     "execution_count": 6,
     "metadata": {},
     "output_type": "execute_result"
    }
   ],
   "source": [
    "dict1 = {'Infosys':pd.Series([1100,1105,1190,1200,1145,1300]),\n",
    "         'Wipro':pd.Series([2100,2105,2190,2200,2145,2300]),\n",
    "         'Ibm':pd.Series([3100,3105,3190,3200,3145,3300]),\n",
    "         'Tcs':pd.Series([4100,4105,4190,4200,4145,4300]),\n",
    "         'Techmahindra':pd.Series([5100,5105,5190,5200,5145,5300])}\n",
    "\n",
    "seriesofseries1 = pd.Series(dict1)\n",
    "\n",
    "df1 = pd.DataFrame(dict1)\n",
    "df1"
   ]
  },
  {
   "cell_type": "code",
   "execution_count": 77,
   "metadata": {},
   "outputs": [
    {
     "data": {
      "text/html": [
       "<div>\n",
       "<style scoped>\n",
       "    .dataframe tbody tr th:only-of-type {\n",
       "        vertical-align: middle;\n",
       "    }\n",
       "\n",
       "    .dataframe tbody tr th {\n",
       "        vertical-align: top;\n",
       "    }\n",
       "\n",
       "    .dataframe thead th {\n",
       "        text-align: right;\n",
       "    }\n",
       "</style>\n",
       "<table border=\"1\" class=\"dataframe\">\n",
       "  <thead>\n",
       "    <tr style=\"text-align: right;\">\n",
       "      <th></th>\n",
       "      <th>Infosys</th>\n",
       "      <th>Wipro</th>\n",
       "      <th>Ibm</th>\n",
       "      <th>Tcs</th>\n",
       "      <th>Techmahindra</th>\n",
       "    </tr>\n",
       "  </thead>\n",
       "  <tbody>\n",
       "    <tr>\n",
       "      <th>day1</th>\n",
       "      <td>1100</td>\n",
       "      <td>2100</td>\n",
       "      <td>3100</td>\n",
       "      <td>4100</td>\n",
       "      <td>5100</td>\n",
       "    </tr>\n",
       "    <tr>\n",
       "      <th>day2</th>\n",
       "      <td>1105</td>\n",
       "      <td>2105</td>\n",
       "      <td>3105</td>\n",
       "      <td>4105</td>\n",
       "      <td>5105</td>\n",
       "    </tr>\n",
       "    <tr>\n",
       "      <th>day3</th>\n",
       "      <td>1190</td>\n",
       "      <td>2190</td>\n",
       "      <td>3190</td>\n",
       "      <td>4190</td>\n",
       "      <td>5190</td>\n",
       "    </tr>\n",
       "    <tr>\n",
       "      <th>day4</th>\n",
       "      <td>1200</td>\n",
       "      <td>2200</td>\n",
       "      <td>3200</td>\n",
       "      <td>4200</td>\n",
       "      <td>5200</td>\n",
       "    </tr>\n",
       "    <tr>\n",
       "      <th>day5</th>\n",
       "      <td>1145</td>\n",
       "      <td>2145</td>\n",
       "      <td>3145</td>\n",
       "      <td>4145</td>\n",
       "      <td>5145</td>\n",
       "    </tr>\n",
       "    <tr>\n",
       "      <th>day6</th>\n",
       "      <td>1300</td>\n",
       "      <td>2300</td>\n",
       "      <td>3300</td>\n",
       "      <td>4300</td>\n",
       "      <td>5300</td>\n",
       "    </tr>\n",
       "  </tbody>\n",
       "</table>\n",
       "</div>"
      ],
      "text/plain": [
       "      Infosys  Wipro   Ibm   Tcs  Techmahindra\n",
       "day1     1100   2100  3100  4100          5100\n",
       "day2     1105   2105  3105  4105          5105\n",
       "day3     1190   2190  3190  4190          5190\n",
       "day4     1200   2200  3200  4200          5200\n",
       "day5     1145   2145  3145  4145          5145\n",
       "day6     1300   2300  3300  4300          5300"
      ]
     },
     "execution_count": 77,
     "metadata": {},
     "output_type": "execute_result"
    }
   ],
   "source": [
    "dict1 = {'Infosys':pd.Series({\"day1\":1100,\"day2\" : 1105,\"day3\": 1190,\"day4\": 1200,\"day5\": 1145,\"day6\":1300}),\n",
    "         'Wipro':pd.Series({\"day1\":2100,\"day2\" : 2105,\"day3\": 2190,\"day4\": 2200,\"day5\": 2145,\"day6\":2300}),\n",
    "         'Ibm':pd.Series({\"day1\":3100,\"day2\" : 3105,\"day3\": 3190,\"day4\": 3200,\"day5\": 3145,\"day6\":3300}),\n",
    "         'Tcs':pd.Series({\"day1\":4100,\"day2\" : 4105,\"day3\": 4190,\"day4\": 4200,\"day5\": 4145,\"day6\":4300}),\n",
    "         'Techmahindra':pd.Series({\"day1\":5100,\"day2\" : 5105,\"day3\": 5190,\"day4\": 5200,\"day5\": 5145,\"day6\":5300})}\n",
    "\n",
    "df1 = pd.DataFrame(dict1)\n",
    "df1"
   ]
  },
  {
   "cell_type": "code",
   "execution_count": 83,
   "metadata": {},
   "outputs": [
    {
     "name": "stdout",
     "output_type": "stream",
     "text": [
      "0    [1100, 1105, 1190, 1200, 1145, 1300]\n",
      "1    [2100, 2105, 2190, 2200, 2145, 2300]\n",
      "2    [3100, 3105, 3190, 3200, 3145, 3300]\n",
      "3    [4100, 4105, 4190, 4200, 4145, 4300]\n",
      "4    [5100, 5105, 5190, 5200, 5145, 5300]\n",
      "dtype: object\n"
     ]
    },
    {
     "data": {
      "text/html": [
       "<div>\n",
       "<style scoped>\n",
       "    .dataframe tbody tr th:only-of-type {\n",
       "        vertical-align: middle;\n",
       "    }\n",
       "\n",
       "    .dataframe tbody tr th {\n",
       "        vertical-align: top;\n",
       "    }\n",
       "\n",
       "    .dataframe thead th {\n",
       "        text-align: right;\n",
       "    }\n",
       "</style>\n",
       "<table border=\"1\" class=\"dataframe\">\n",
       "  <thead>\n",
       "    <tr style=\"text-align: right;\">\n",
       "      <th></th>\n",
       "      <th>0</th>\n",
       "      <th>1</th>\n",
       "      <th>2</th>\n",
       "      <th>3</th>\n",
       "      <th>4</th>\n",
       "      <th>5</th>\n",
       "    </tr>\n",
       "  </thead>\n",
       "  <tbody>\n",
       "    <tr>\n",
       "      <th>0</th>\n",
       "      <td>1100</td>\n",
       "      <td>1105</td>\n",
       "      <td>1190</td>\n",
       "      <td>1200</td>\n",
       "      <td>1145</td>\n",
       "      <td>1300</td>\n",
       "    </tr>\n",
       "    <tr>\n",
       "      <th>1</th>\n",
       "      <td>2100</td>\n",
       "      <td>2105</td>\n",
       "      <td>2190</td>\n",
       "      <td>2200</td>\n",
       "      <td>2145</td>\n",
       "      <td>2300</td>\n",
       "    </tr>\n",
       "    <tr>\n",
       "      <th>2</th>\n",
       "      <td>3100</td>\n",
       "      <td>3105</td>\n",
       "      <td>3190</td>\n",
       "      <td>3200</td>\n",
       "      <td>3145</td>\n",
       "      <td>3300</td>\n",
       "    </tr>\n",
       "    <tr>\n",
       "      <th>3</th>\n",
       "      <td>4100</td>\n",
       "      <td>4105</td>\n",
       "      <td>4190</td>\n",
       "      <td>4200</td>\n",
       "      <td>4145</td>\n",
       "      <td>4300</td>\n",
       "    </tr>\n",
       "    <tr>\n",
       "      <th>4</th>\n",
       "      <td>5100</td>\n",
       "      <td>5105</td>\n",
       "      <td>5190</td>\n",
       "      <td>5200</td>\n",
       "      <td>5145</td>\n",
       "      <td>5300</td>\n",
       "    </tr>\n",
       "  </tbody>\n",
       "</table>\n",
       "</div>"
      ],
      "text/plain": [
       "      0     1     2     3     4     5\n",
       "0  1100  1105  1190  1200  1145  1300\n",
       "1  2100  2105  2190  2200  2145  2300\n",
       "2  3100  3105  3190  3200  3145  3300\n",
       "3  4100  4105  4190  4200  4145  4300\n",
       "4  5100  5105  5190  5200  5145  5300"
      ]
     },
     "execution_count": 83,
     "metadata": {},
     "output_type": "execute_result"
    }
   ],
   "source": [
    "dict1 = [[1100,1105,1190,1200,1145,1300],\n",
    "         [2100,2105,2190,2200,2145,2300],\n",
    "         [3100,3105,3190,3200,3145,3300],\n",
    "         [4100,4105,4190,4200,4145,4300],\n",
    "         [5100,5105,5190,5200,5145,5300]]\n",
    "\n",
    "seriesofseries1 = pd.Series(dict1)\n",
    "print(seriesofseries1)\n",
    "df1 = pd.DataFrame(dict1)\n",
    "df1"
   ]
  },
  {
   "cell_type": "code",
   "execution_count": 8,
   "metadata": {},
   "outputs": [],
   "source": [
    "import numpy as np"
   ]
  },
  {
   "cell_type": "code",
   "execution_count": 9,
   "metadata": {},
   "outputs": [
    {
     "data": {
      "text/plain": [
       "array([('', '', ''), ('', '', ''), ('', '', ''), ('', '', '')],\n",
       "      dtype=[('Name', '<U25'), ('Gender', '<U10'), ('Present/Absent', '<U15')])"
      ]
     },
     "execution_count": 9,
     "metadata": {},
     "output_type": "execute_result"
    }
   ],
   "source": [
    "## using structured array\n",
    "\n",
    "df3 = np.zeros((4,),dtype = [('Name','U25'),('Gender','U10'),('Present/Absent','U15')])\n",
    "df3"
   ]
  },
  {
   "cell_type": "code",
   "execution_count": 119,
   "metadata": {},
   "outputs": [
    {
     "data": {
      "text/plain": [
       "array([('Joseph', 'male', 'Absent'), ('Ram', 'male', 'Absent'),\n",
       "       ('Rahim', 'male', 'Present'), ('swathi', 'female', 'Absent')],\n",
       "      dtype=[('Name', '<U25'), ('Gender', '<U10'), ('Present/Absent', '<U15')])"
      ]
     },
     "execution_count": 119,
     "metadata": {},
     "output_type": "execute_result"
    }
   ],
   "source": [
    "df3[:] =[('Joseph',\"male\",\"Absent\"),('Ram',\"male\",\"Absent\"),('Rahim',\"male\",\"Present\"),('swathi',\"female\",\"Absent\")]\n",
    "df3"
   ]
  },
  {
   "cell_type": "code",
   "execution_count": 11,
   "metadata": {},
   "outputs": [
    {
     "data": {
      "text/plain": [
       "array([('Joseph', 'male', 'Absent'), ('', '', ''), ('', '', ''),\n",
       "       ('', '', '')],\n",
       "      dtype=[('Name', '<U25'), ('Gender', '<U10'), ('Present/Absent', '<U15')])"
      ]
     },
     "execution_count": 11,
     "metadata": {},
     "output_type": "execute_result"
    }
   ],
   "source": [
    "df3[0:1] =[('Joseph',\"male\",\"Absent\")]\n",
    "df3"
   ]
  },
  {
   "cell_type": "code",
   "execution_count": 15,
   "metadata": {},
   "outputs": [
    {
     "data": {
      "text/html": [
       "<div>\n",
       "<style scoped>\n",
       "    .dataframe tbody tr th:only-of-type {\n",
       "        vertical-align: middle;\n",
       "    }\n",
       "\n",
       "    .dataframe tbody tr th {\n",
       "        vertical-align: top;\n",
       "    }\n",
       "\n",
       "    .dataframe thead th {\n",
       "        text-align: right;\n",
       "    }\n",
       "</style>\n",
       "<table border=\"1\" class=\"dataframe\">\n",
       "  <thead>\n",
       "    <tr style=\"text-align: right;\">\n",
       "      <th></th>\n",
       "      <th>0</th>\n",
       "      <th>1</th>\n",
       "    </tr>\n",
       "  </thead>\n",
       "  <tbody>\n",
       "    <tr>\n",
       "      <th>Infosys</th>\n",
       "      <td>1200</td>\n",
       "      <td>1300</td>\n",
       "    </tr>\n",
       "    <tr>\n",
       "      <th>Wipro</th>\n",
       "      <td>1567</td>\n",
       "      <td>1467</td>\n",
       "    </tr>\n",
       "    <tr>\n",
       "      <th>Ibm</th>\n",
       "      <td>1900</td>\n",
       "      <td>1800</td>\n",
       "    </tr>\n",
       "    <tr>\n",
       "      <th>Tcs</th>\n",
       "      <td>1827</td>\n",
       "      <td>1927</td>\n",
       "    </tr>\n",
       "    <tr>\n",
       "      <th>Techmahindra</th>\n",
       "      <td>1404</td>\n",
       "      <td>1504</td>\n",
       "    </tr>\n",
       "  </tbody>\n",
       "</table>\n",
       "</div>"
      ],
      "text/plain": [
       "                 0     1\n",
       "Infosys       1200  1300\n",
       "Wipro         1567  1467\n",
       "Ibm           1900  1800\n",
       "Tcs           1827  1927\n",
       "Techmahindra  1404  1504"
      ]
     },
     "execution_count": 15,
     "metadata": {},
     "output_type": "execute_result"
    }
   ],
   "source": [
    "dict1= dict()\n",
    "dict1 = {'Infosys':1200,'Wipro':1567,'Ibm':1900,'Tcs':1827,'Techmahindra':1404}\n",
    "dict2 = {'Infosys':1300,'Wipro':1467,'Ibm':1800,'Tcs':1927,'Techmahindra':1504}\n",
    "series3 = pd.Series(dict1)\n",
    "series4 = pd.Series(dict2)\n",
    "#print(pd.DataFrame(dict1,dict2))\n",
    "#print(pd.DataFrame(pd.Series.append(series3,series4)) ) #for rows\n",
    "\n",
    "pd.concat([series3,series4],axis = 1) # perfect solution\n"
   ]
  },
  {
   "cell_type": "code",
   "execution_count": 19,
   "metadata": {},
   "outputs": [
    {
     "ename": "TypeError",
     "evalue": "__init__() got an unexpected keyword argument 'axis'",
     "output_type": "error",
     "traceback": [
      "\u001b[1;31m---------------------------------------------------------------------------\u001b[0m",
      "\u001b[1;31mTypeError\u001b[0m                                 Traceback (most recent call last)",
      "\u001b[1;32m<ipython-input-19-01b067e75d63>\u001b[0m in \u001b[0;36m<module>\u001b[1;34m\u001b[0m\n\u001b[1;32m----> 1\u001b[1;33m \u001b[0mpd2\u001b[0m \u001b[1;33m=\u001b[0m \u001b[0mpd\u001b[0m\u001b[1;33m.\u001b[0m\u001b[0mDataFrame\u001b[0m\u001b[1;33m(\u001b[0m\u001b[0mseries3\u001b[0m\u001b[1;33m,\u001b[0m\u001b[0mseries4\u001b[0m\u001b[1;33m,\u001b[0m\u001b[0maxis\u001b[0m \u001b[1;33m=\u001b[0m \u001b[1;36m1\u001b[0m\u001b[1;33m)\u001b[0m\u001b[1;33m\u001b[0m\u001b[1;33m\u001b[0m\u001b[0m\n\u001b[0m\u001b[0;32m      2\u001b[0m \u001b[0mpd2\u001b[0m\u001b[1;33m.\u001b[0m\u001b[0mcolumns\u001b[0m \u001b[1;33m=\u001b[0m \u001b[1;33m[\u001b[0m\u001b[1;34m'a'\u001b[0m\u001b[1;33m,\u001b[0m\u001b[1;34m'b'\u001b[0m\u001b[1;33m]\u001b[0m\u001b[1;33m\u001b[0m\u001b[1;33m\u001b[0m\u001b[0m\n\u001b[0;32m      3\u001b[0m \u001b[0mpd2\u001b[0m\u001b[1;33m\u001b[0m\u001b[1;33m\u001b[0m\u001b[0m\n",
      "\u001b[1;31mTypeError\u001b[0m: __init__() got an unexpected keyword argument 'axis'"
     ]
    }
   ],
   "source": [
    "pd2 = pd.DataFrame([series3,series4],axis = 1)) \n",
    "pd2.columns = ['a','b']\n",
    "pd2"
   ]
  },
  {
   "cell_type": "code",
   "execution_count": 4,
   "metadata": {},
   "outputs": [],
   "source": [
    "import pandas as pd,numpy as np"
   ]
  },
  {
   "cell_type": "code",
   "execution_count": 5,
   "metadata": {
    "scrolled": false
   },
   "outputs": [
    {
     "data": {
      "text/html": [
       "<div>\n",
       "<style scoped>\n",
       "    .dataframe tbody tr th:only-of-type {\n",
       "        vertical-align: middle;\n",
       "    }\n",
       "\n",
       "    .dataframe tbody tr th {\n",
       "        vertical-align: top;\n",
       "    }\n",
       "\n",
       "    .dataframe thead th {\n",
       "        text-align: right;\n",
       "    }\n",
       "</style>\n",
       "<table border=\"1\" class=\"dataframe\">\n",
       "  <thead>\n",
       "    <tr style=\"text-align: right;\">\n",
       "      <th></th>\n",
       "      <th>a</th>\n",
       "      <th>b</th>\n",
       "      <th>c</th>\n",
       "      <th>d</th>\n",
       "      <th>e</th>\n",
       "    </tr>\n",
       "  </thead>\n",
       "  <tbody>\n",
       "    <tr>\n",
       "      <th>0</th>\n",
       "      <td>7</td>\n",
       "      <td>2</td>\n",
       "      <td>2</td>\n",
       "      <td>8</td>\n",
       "      <td>8</td>\n",
       "    </tr>\n",
       "    <tr>\n",
       "      <th>1</th>\n",
       "      <td>3</td>\n",
       "      <td>1</td>\n",
       "      <td>1</td>\n",
       "      <td>8</td>\n",
       "      <td>8</td>\n",
       "    </tr>\n",
       "    <tr>\n",
       "      <th>2</th>\n",
       "      <td>4</td>\n",
       "      <td>0</td>\n",
       "      <td>3</td>\n",
       "      <td>8</td>\n",
       "      <td>0</td>\n",
       "    </tr>\n",
       "    <tr>\n",
       "      <th>3</th>\n",
       "      <td>2</td>\n",
       "      <td>2</td>\n",
       "      <td>7</td>\n",
       "      <td>1</td>\n",
       "      <td>8</td>\n",
       "    </tr>\n",
       "    <tr>\n",
       "      <th>4</th>\n",
       "      <td>4</td>\n",
       "      <td>0</td>\n",
       "      <td>0</td>\n",
       "      <td>2</td>\n",
       "      <td>4</td>\n",
       "    </tr>\n",
       "  </tbody>\n",
       "</table>\n",
       "</div>"
      ],
      "text/plain": [
       "   a  b  c  d  e\n",
       "0  7  2  2  8  8\n",
       "1  3  1  1  8  8\n",
       "2  4  0  3  8  0\n",
       "3  2  2  7  1  8\n",
       "4  4  0  0  2  4"
      ]
     },
     "execution_count": 5,
     "metadata": {},
     "output_type": "execute_result"
    }
   ],
   "source": [
    "df2 = pd.DataFrame(np.random.randint(low=0, high=10, size=(5, 5)),columns=['a', 'b', 'c', 'd', 'e'])\n",
    "df2"
   ]
  },
  {
   "cell_type": "code",
   "execution_count": 23,
   "metadata": {},
   "outputs": [
    {
     "data": {
      "text/html": [
       "<div>\n",
       "<style scoped>\n",
       "    .dataframe tbody tr th:only-of-type {\n",
       "        vertical-align: middle;\n",
       "    }\n",
       "\n",
       "    .dataframe tbody tr th {\n",
       "        vertical-align: top;\n",
       "    }\n",
       "\n",
       "    .dataframe thead th {\n",
       "        text-align: right;\n",
       "    }\n",
       "</style>\n",
       "<table border=\"1\" class=\"dataframe\">\n",
       "  <thead>\n",
       "    <tr style=\"text-align: right;\">\n",
       "      <th></th>\n",
       "      <th>a</th>\n",
       "      <th>b</th>\n",
       "      <th>c</th>\n",
       "      <th>d</th>\n",
       "      <th>e</th>\n",
       "    </tr>\n",
       "  </thead>\n",
       "  <tbody>\n",
       "    <tr>\n",
       "      <th>0</th>\n",
       "      <td>7</td>\n",
       "      <td>2</td>\n",
       "      <td>2</td>\n",
       "      <td>8</td>\n",
       "      <td>8</td>\n",
       "    </tr>\n",
       "    <tr>\n",
       "      <th>1</th>\n",
       "      <td>3</td>\n",
       "      <td>1</td>\n",
       "      <td>1</td>\n",
       "      <td>8</td>\n",
       "      <td>8</td>\n",
       "    </tr>\n",
       "  </tbody>\n",
       "</table>\n",
       "</div>"
      ],
      "text/plain": [
       "   a  b  c  d  e\n",
       "0  7  2  2  8  8\n",
       "1  3  1  1  8  8"
      ]
     },
     "execution_count": 23,
     "metadata": {},
     "output_type": "execute_result"
    }
   ],
   "source": [
    "df2[:2]"
   ]
  },
  {
   "cell_type": "code",
   "execution_count": 7,
   "metadata": {},
   "outputs": [
    {
     "name": "stdout",
     "output_type": "stream",
     "text": [
      "0    7\n",
      "Name: a, dtype: int32\n",
      "<class 'pandas.core.series.Series'>\n"
     ]
    },
    {
     "data": {
      "text/plain": [
       "0    7\n",
       "1    3\n",
       "2    4\n",
       "3    2\n",
       "4    4\n",
       "Name: a, dtype: int32"
      ]
     },
     "execution_count": 7,
     "metadata": {},
     "output_type": "execute_result"
    }
   ],
   "source": [
    "# operations on dataframes\n",
    "\n",
    "print(df2[0:1]['a'])\n",
    "x1 = df2['a']\n",
    "print(type(x1))\n",
    "x1"
   ]
  },
  {
   "cell_type": "code",
   "execution_count": 44,
   "metadata": {},
   "outputs": [
    {
     "data": {
      "text/html": [
       "<div>\n",
       "<style scoped>\n",
       "    .dataframe tbody tr th:only-of-type {\n",
       "        vertical-align: middle;\n",
       "    }\n",
       "\n",
       "    .dataframe tbody tr th {\n",
       "        vertical-align: top;\n",
       "    }\n",
       "\n",
       "    .dataframe thead th {\n",
       "        text-align: right;\n",
       "    }\n",
       "</style>\n",
       "<table border=\"1\" class=\"dataframe\">\n",
       "  <thead>\n",
       "    <tr style=\"text-align: right;\">\n",
       "      <th></th>\n",
       "      <th>a</th>\n",
       "      <th>b</th>\n",
       "    </tr>\n",
       "  </thead>\n",
       "  <tbody>\n",
       "    <tr>\n",
       "      <th>0</th>\n",
       "      <td>7</td>\n",
       "      <td>2</td>\n",
       "    </tr>\n",
       "    <tr>\n",
       "      <th>1</th>\n",
       "      <td>3</td>\n",
       "      <td>1</td>\n",
       "    </tr>\n",
       "  </tbody>\n",
       "</table>\n",
       "</div>"
      ],
      "text/plain": [
       "   a  b\n",
       "0  7  2\n",
       "1  3  1"
      ]
     },
     "execution_count": 44,
     "metadata": {},
     "output_type": "execute_result"
    }
   ],
   "source": [
    "df2.iloc[0:2,0:2]"
   ]
  },
  {
   "cell_type": "code",
   "execution_count": 26,
   "metadata": {},
   "outputs": [
    {
     "ename": "NameError",
     "evalue": "name 'pd2' is not defined",
     "output_type": "error",
     "traceback": [
      "\u001b[1;31m---------------------------------------------------------------------------\u001b[0m",
      "\u001b[1;31mNameError\u001b[0m                                 Traceback (most recent call last)",
      "\u001b[1;32m<ipython-input-26-433e528b71d7>\u001b[0m in \u001b[0;36m<module>\u001b[1;34m\u001b[0m\n\u001b[1;32m----> 1\u001b[1;33m \u001b[0mprint\u001b[0m\u001b[1;33m(\u001b[0m\u001b[0mpd2\u001b[0m\u001b[1;33m)\u001b[0m\u001b[1;33m\u001b[0m\u001b[1;33m\u001b[0m\u001b[0m\n\u001b[0m\u001b[0;32m      2\u001b[0m \u001b[0mpd2\u001b[0m\u001b[1;33m[\u001b[0m\u001b[1;36m2\u001b[0m\u001b[1;33m:\u001b[0m\u001b[1;36m3\u001b[0m\u001b[1;33m]\u001b[0m\u001b[1;33m[\u001b[0m\u001b[1;33m:\u001b[0m\u001b[1;33m]\u001b[0m \u001b[1;33m=\u001b[0m \u001b[1;36m1666\u001b[0m\u001b[1;33m\u001b[0m\u001b[1;33m\u001b[0m\u001b[0m\n\u001b[0;32m      3\u001b[0m \u001b[0mpd2\u001b[0m\u001b[1;33m\u001b[0m\u001b[1;33m\u001b[0m\u001b[0m\n",
      "\u001b[1;31mNameError\u001b[0m: name 'pd2' is not defined"
     ]
    }
   ],
   "source": [
    "print(pd2)\n",
    "pd2[2:3][:] = 1666\n",
    "pd2"
   ]
  },
  {
   "cell_type": "code",
   "execution_count": 218,
   "metadata": {},
   "outputs": [
    {
     "data": {
      "text/html": [
       "<div>\n",
       "<style scoped>\n",
       "    .dataframe tbody tr th:only-of-type {\n",
       "        vertical-align: middle;\n",
       "    }\n",
       "\n",
       "    .dataframe tbody tr th {\n",
       "        vertical-align: top;\n",
       "    }\n",
       "\n",
       "    .dataframe thead th {\n",
       "        text-align: right;\n",
       "    }\n",
       "</style>\n",
       "<table border=\"1\" class=\"dataframe\">\n",
       "  <thead>\n",
       "    <tr style=\"text-align: right;\">\n",
       "      <th></th>\n",
       "      <th>a</th>\n",
       "      <th>f</th>\n",
       "      <th>b</th>\n",
       "      <th>c</th>\n",
       "      <th>d</th>\n",
       "    </tr>\n",
       "  </thead>\n",
       "  <tbody>\n",
       "    <tr>\n",
       "      <th>0</th>\n",
       "      <td>3</td>\n",
       "      <td>3400</td>\n",
       "      <td>5</td>\n",
       "      <td>6</td>\n",
       "      <td>7</td>\n",
       "    </tr>\n",
       "    <tr>\n",
       "      <th>1</th>\n",
       "      <td>2</td>\n",
       "      <td>3400</td>\n",
       "      <td>3</td>\n",
       "      <td>4</td>\n",
       "      <td>6</td>\n",
       "    </tr>\n",
       "    <tr>\n",
       "      <th>2</th>\n",
       "      <td>7</td>\n",
       "      <td>3400</td>\n",
       "      <td>56</td>\n",
       "      <td>0</td>\n",
       "      <td>3</td>\n",
       "    </tr>\n",
       "    <tr>\n",
       "      <th>3</th>\n",
       "      <td>5</td>\n",
       "      <td>3400</td>\n",
       "      <td>6</td>\n",
       "      <td>6</td>\n",
       "      <td>0</td>\n",
       "    </tr>\n",
       "    <tr>\n",
       "      <th>4</th>\n",
       "      <td>7</td>\n",
       "      <td>3400</td>\n",
       "      <td>0</td>\n",
       "      <td>8</td>\n",
       "      <td>8</td>\n",
       "    </tr>\n",
       "  </tbody>\n",
       "</table>\n",
       "</div>"
      ],
      "text/plain": [
       "   a     f   b  c  d\n",
       "0  3  3400   5  6  7\n",
       "1  2  3400   3  4  6\n",
       "2  7  3400  56  0  3\n",
       "3  5  3400   6  6  0\n",
       "4  7  3400   0  8  8"
      ]
     },
     "execution_count": 218,
     "metadata": {},
     "output_type": "execute_result"
    }
   ],
   "source": [
    "del df2['e']\n",
    "df2"
   ]
  },
  {
   "cell_type": "code",
   "execution_count": 219,
   "metadata": {},
   "outputs": [
    {
     "name": "stderr",
     "output_type": "stream",
     "text": [
      "C:\\ProgramData\\Anaconda3\\lib\\site-packages\\ipykernel_launcher.py:1: SettingWithCopyWarning: \n",
      "A value is trying to be set on a copy of a slice from a DataFrame\n",
      "\n",
      "See the caveats in the documentation: http://pandas.pydata.org/pandas-docs/stable/indexing.html#indexing-view-versus-copy\n",
      "  \"\"\"Entry point for launching an IPython kernel.\n"
     ]
    },
    {
     "data": {
      "text/html": [
       "<div>\n",
       "<style scoped>\n",
       "    .dataframe tbody tr th:only-of-type {\n",
       "        vertical-align: middle;\n",
       "    }\n",
       "\n",
       "    .dataframe tbody tr th {\n",
       "        vertical-align: top;\n",
       "    }\n",
       "\n",
       "    .dataframe thead th {\n",
       "        text-align: right;\n",
       "    }\n",
       "</style>\n",
       "<table border=\"1\" class=\"dataframe\">\n",
       "  <thead>\n",
       "    <tr style=\"text-align: right;\">\n",
       "      <th></th>\n",
       "      <th>a</th>\n",
       "      <th>f</th>\n",
       "      <th>b</th>\n",
       "      <th>c</th>\n",
       "      <th>d</th>\n",
       "    </tr>\n",
       "  </thead>\n",
       "  <tbody>\n",
       "    <tr>\n",
       "      <th>0</th>\n",
       "      <td>3</td>\n",
       "      <td>3400</td>\n",
       "      <td>5</td>\n",
       "      <td>6</td>\n",
       "      <td>7</td>\n",
       "    </tr>\n",
       "    <tr>\n",
       "      <th>1</th>\n",
       "      <td>2</td>\n",
       "      <td>3400</td>\n",
       "      <td>3</td>\n",
       "      <td>4</td>\n",
       "      <td>6</td>\n",
       "    </tr>\n",
       "    <tr>\n",
       "      <th>2</th>\n",
       "      <td>7</td>\n",
       "      <td>3400</td>\n",
       "      <td>56</td>\n",
       "      <td>0</td>\n",
       "      <td>3</td>\n",
       "    </tr>\n",
       "    <tr>\n",
       "      <th>3</th>\n",
       "      <td>5</td>\n",
       "      <td>3400</td>\n",
       "      <td>6</td>\n",
       "      <td>6</td>\n",
       "      <td>0</td>\n",
       "    </tr>\n",
       "    <tr>\n",
       "      <th>4</th>\n",
       "      <td>7</td>\n",
       "      <td>3400</td>\n",
       "      <td>0</td>\n",
       "      <td>8</td>\n",
       "      <td>8</td>\n",
       "    </tr>\n",
       "  </tbody>\n",
       "</table>\n",
       "</div>"
      ],
      "text/plain": [
       "   a     f   b  c  d\n",
       "0  3  3400   5  6  7\n",
       "1  2  3400   3  4  6\n",
       "2  7  3400  56  0  3\n",
       "3  5  3400   6  6  0\n",
       "4  7  3400   0  8  8"
      ]
     },
     "execution_count": 219,
     "metadata": {},
     "output_type": "execute_result"
    }
   ],
   "source": [
    "df2['b'][2] = 56\n",
    "df2"
   ]
  },
  {
   "cell_type": "code",
   "execution_count": 224,
   "metadata": {},
   "outputs": [
    {
     "data": {
      "text/html": [
       "<div>\n",
       "<style scoped>\n",
       "    .dataframe tbody tr th:only-of-type {\n",
       "        vertical-align: middle;\n",
       "    }\n",
       "\n",
       "    .dataframe tbody tr th {\n",
       "        vertical-align: top;\n",
       "    }\n",
       "\n",
       "    .dataframe thead th {\n",
       "        text-align: right;\n",
       "    }\n",
       "</style>\n",
       "<table border=\"1\" class=\"dataframe\">\n",
       "  <thead>\n",
       "    <tr style=\"text-align: right;\">\n",
       "      <th></th>\n",
       "      <th>a</th>\n",
       "      <th>f</th>\n",
       "      <th>b</th>\n",
       "      <th>wow</th>\n",
       "      <th>how</th>\n",
       "      <th>gi</th>\n",
       "      <th>c</th>\n",
       "      <th>d</th>\n",
       "      <th>ghu</th>\n",
       "    </tr>\n",
       "  </thead>\n",
       "  <tbody>\n",
       "    <tr>\n",
       "      <th>0</th>\n",
       "      <td>3</td>\n",
       "      <td>3400</td>\n",
       "      <td>5</td>\n",
       "      <td>46</td>\n",
       "      <td>4600</td>\n",
       "      <td>4600</td>\n",
       "      <td>6</td>\n",
       "      <td>7</td>\n",
       "      <td>4600</td>\n",
       "    </tr>\n",
       "    <tr>\n",
       "      <th>1</th>\n",
       "      <td>2</td>\n",
       "      <td>3400</td>\n",
       "      <td>3</td>\n",
       "      <td>0</td>\n",
       "      <td>4600</td>\n",
       "      <td>4600</td>\n",
       "      <td>4</td>\n",
       "      <td>6</td>\n",
       "      <td>4600</td>\n",
       "    </tr>\n",
       "    <tr>\n",
       "      <th>2</th>\n",
       "      <td>7</td>\n",
       "      <td>3400</td>\n",
       "      <td>56</td>\n",
       "      <td>90</td>\n",
       "      <td>4600</td>\n",
       "      <td>4600</td>\n",
       "      <td>0</td>\n",
       "      <td>3</td>\n",
       "      <td>4600</td>\n",
       "    </tr>\n",
       "    <tr>\n",
       "      <th>3</th>\n",
       "      <td>5</td>\n",
       "      <td>3400</td>\n",
       "      <td>6</td>\n",
       "      <td>89</td>\n",
       "      <td>4600</td>\n",
       "      <td>4600</td>\n",
       "      <td>6</td>\n",
       "      <td>0</td>\n",
       "      <td>4600</td>\n",
       "    </tr>\n",
       "    <tr>\n",
       "      <th>4</th>\n",
       "      <td>7</td>\n",
       "      <td>3400</td>\n",
       "      <td>0</td>\n",
       "      <td>76</td>\n",
       "      <td>4600</td>\n",
       "      <td>4600</td>\n",
       "      <td>8</td>\n",
       "      <td>8</td>\n",
       "      <td>4600</td>\n",
       "    </tr>\n",
       "  </tbody>\n",
       "</table>\n",
       "</div>"
      ],
      "text/plain": [
       "   a     f   b  wow   how    gi  c  d   ghu\n",
       "0  3  3400   5   46  4600  4600  6  7  4600\n",
       "1  2  3400   3    0  4600  4600  4  6  4600\n",
       "2  7  3400  56   90  4600  4600  0  3  4600\n",
       "3  5  3400   6   89  4600  4600  6  0  4600\n",
       "4  7  3400   0   76  4600  4600  8  8  4600"
      ]
     },
     "execution_count": 224,
     "metadata": {},
     "output_type": "execute_result"
    }
   ],
   "source": [
    "df2.insert(3,'wow',[46,0,90,89,76])\n",
    "df2"
   ]
  },
  {
   "cell_type": "code",
   "execution_count": 226,
   "metadata": {},
   "outputs": [
    {
     "data": {
      "text/plain": [
       "{'France': {'2015-Q1': 100.1,\n",
       "  '2015-Q2': 104.6,\n",
       "  '2015-Q3': 400,\n",
       "  '2015-Q4': 340},\n",
       " 'Germany': {'2015-Q1': 100.1,\n",
       "  '2015-Q2': 156.6,\n",
       "  '2015-Q3': 350,\n",
       "  '2015-Q4': 490},\n",
       " 'Poland': {'2015-Q1': 99.1, '2015-Q2': 103.6, '2015-Q3': 440, '2015-Q4': 440}}"
      ]
     },
     "execution_count": 226,
     "metadata": {},
     "output_type": "execute_result"
    }
   ],
   "source": [
    "#Basic indexing\n",
    "\n",
    "oil_data = {'France':{'2015-Q1': 100.1, '2015-Q2': 104.6, '2015-Q3': 400, '2015-Q4': 340},\n",
    "            'Germany':{'2015-Q1': 100.1, '2015-Q2': 156.6, '2015-Q3': 350, '2015-Q4': 490},\n",
    "           'Poland':{'2015-Q1': 99.1, '2015-Q2': 103.6, '2015-Q3': 440, '2015-Q4': 440}}\n",
    "oil_data"
   ]
  },
  {
   "cell_type": "code",
   "execution_count": 229,
   "metadata": {},
   "outputs": [
    {
     "name": "stdout",
     "output_type": "stream",
     "text": [
      "         France  Germany  Poland\n",
      "2015-Q1   100.1    100.1    99.1\n",
      "2015-Q2   104.6    156.6   103.6\n",
      "2015-Q3   400.0    350.0   440.0\n",
      "2015-Q4   340.0    490.0   440.0\n"
     ]
    },
    {
     "data": {
      "text/html": [
       "<div>\n",
       "<style scoped>\n",
       "    .dataframe tbody tr th:only-of-type {\n",
       "        vertical-align: middle;\n",
       "    }\n",
       "\n",
       "    .dataframe tbody tr th {\n",
       "        vertical-align: top;\n",
       "    }\n",
       "\n",
       "    .dataframe thead th {\n",
       "        text-align: right;\n",
       "    }\n",
       "</style>\n",
       "<table border=\"1\" class=\"dataframe\">\n",
       "  <thead>\n",
       "    <tr style=\"text-align: right;\">\n",
       "      <th></th>\n",
       "      <th>France</th>\n",
       "      <th>Germany</th>\n",
       "      <th>Poland</th>\n",
       "    </tr>\n",
       "  </thead>\n",
       "  <tbody>\n",
       "    <tr>\n",
       "      <th>2015-Q1</th>\n",
       "      <td>100.1</td>\n",
       "      <td>100.1</td>\n",
       "      <td>99.1</td>\n",
       "    </tr>\n",
       "    <tr>\n",
       "      <th>2015-Q2</th>\n",
       "      <td>104.6</td>\n",
       "      <td>156.6</td>\n",
       "      <td>103.6</td>\n",
       "    </tr>\n",
       "    <tr>\n",
       "      <th>2015-Q3</th>\n",
       "      <td>400.0</td>\n",
       "      <td>350.0</td>\n",
       "      <td>440.0</td>\n",
       "    </tr>\n",
       "    <tr>\n",
       "      <th>2015-Q4</th>\n",
       "      <td>340.0</td>\n",
       "      <td>490.0</td>\n",
       "      <td>440.0</td>\n",
       "    </tr>\n",
       "  </tbody>\n",
       "</table>\n",
       "</div>"
      ],
      "text/plain": [
       "         France  Germany  Poland\n",
       "2015-Q1   100.1    100.1    99.1\n",
       "2015-Q2   104.6    156.6   103.6\n",
       "2015-Q3   400.0    350.0   440.0\n",
       "2015-Q4   340.0    490.0   440.0"
      ]
     },
     "execution_count": 229,
     "metadata": {},
     "output_type": "execute_result"
    }
   ],
   "source": [
    "oil_df = pd.DataFrame.from_dict(oil_data)\n",
    "print(pd.DataFrame(oil_data))\n",
    "oil_df"
   ]
  },
  {
   "cell_type": "code",
   "execution_count": 233,
   "metadata": {},
   "outputs": [
    {
     "data": {
      "text/plain": [
       "2015-Q1    100.1\n",
       "2015-Q2    104.6\n",
       "2015-Q3    400.0\n",
       "2015-Q4    340.0\n",
       "Name: France, dtype: float64"
      ]
     },
     "execution_count": 233,
     "metadata": {},
     "output_type": "execute_result"
    }
   ],
   "source": [
    "oil_df['France']"
   ]
  },
  {
   "cell_type": "code",
   "execution_count": 235,
   "metadata": {},
   "outputs": [
    {
     "data": {
      "text/html": [
       "<div>\n",
       "<style scoped>\n",
       "    .dataframe tbody tr th:only-of-type {\n",
       "        vertical-align: middle;\n",
       "    }\n",
       "\n",
       "    .dataframe tbody tr th {\n",
       "        vertical-align: top;\n",
       "    }\n",
       "\n",
       "    .dataframe thead th {\n",
       "        text-align: right;\n",
       "    }\n",
       "</style>\n",
       "<table border=\"1\" class=\"dataframe\">\n",
       "  <thead>\n",
       "    <tr style=\"text-align: right;\">\n",
       "      <th></th>\n",
       "      <th>Poland</th>\n",
       "      <th>Germany</th>\n",
       "      <th>France</th>\n",
       "    </tr>\n",
       "  </thead>\n",
       "  <tbody>\n",
       "    <tr>\n",
       "      <th>2015-Q1</th>\n",
       "      <td>99.1</td>\n",
       "      <td>100.1</td>\n",
       "      <td>100.1</td>\n",
       "    </tr>\n",
       "    <tr>\n",
       "      <th>2015-Q2</th>\n",
       "      <td>103.6</td>\n",
       "      <td>156.6</td>\n",
       "      <td>104.6</td>\n",
       "    </tr>\n",
       "    <tr>\n",
       "      <th>2015-Q3</th>\n",
       "      <td>440.0</td>\n",
       "      <td>350.0</td>\n",
       "      <td>400.0</td>\n",
       "    </tr>\n",
       "    <tr>\n",
       "      <th>2015-Q4</th>\n",
       "      <td>440.0</td>\n",
       "      <td>490.0</td>\n",
       "      <td>340.0</td>\n",
       "    </tr>\n",
       "  </tbody>\n",
       "</table>\n",
       "</div>"
      ],
      "text/plain": [
       "         Poland  Germany  France\n",
       "2015-Q1    99.1    100.1   100.1\n",
       "2015-Q2   103.6    156.6   104.6\n",
       "2015-Q3   440.0    350.0   400.0\n",
       "2015-Q4   440.0    490.0   340.0"
      ]
     },
     "execution_count": 235,
     "metadata": {},
     "output_type": "execute_result"
    }
   ],
   "source": [
    "oil_df[['Poland','Germany','France']]"
   ]
  },
  {
   "cell_type": "code",
   "execution_count": 238,
   "metadata": {},
   "outputs": [
    {
     "data": {
      "text/plain": [
       "2015-Q1    100.1\n",
       "2015-Q2    104.6\n",
       "2015-Q3    400.0\n",
       "2015-Q4    340.0\n",
       "Name: France, dtype: float64"
      ]
     },
     "execution_count": 238,
     "metadata": {},
     "output_type": "execute_result"
    }
   ],
   "source": [
    "oil_df.France"
   ]
  },
  {
   "cell_type": "code",
   "execution_count": 252,
   "metadata": {},
   "outputs": [
    {
     "data": {
      "text/html": [
       "<div>\n",
       "<style scoped>\n",
       "    .dataframe tbody tr th:only-of-type {\n",
       "        vertical-align: middle;\n",
       "    }\n",
       "\n",
       "    .dataframe tbody tr th {\n",
       "        vertical-align: top;\n",
       "    }\n",
       "\n",
       "    .dataframe thead th {\n",
       "        text-align: right;\n",
       "    }\n",
       "</style>\n",
       "<table border=\"1\" class=\"dataframe\">\n",
       "  <thead>\n",
       "    <tr style=\"text-align: right;\">\n",
       "      <th></th>\n",
       "      <th>France</th>\n",
       "      <th>Germany</th>\n",
       "      <th>Poland</th>\n",
       "    </tr>\n",
       "  </thead>\n",
       "  <tbody>\n",
       "    <tr>\n",
       "      <th>2015-Q4</th>\n",
       "      <td>340.0</td>\n",
       "      <td>490.0</td>\n",
       "      <td>440.0</td>\n",
       "    </tr>\n",
       "    <tr>\n",
       "      <th>2015-Q3</th>\n",
       "      <td>400.0</td>\n",
       "      <td>350.0</td>\n",
       "      <td>440.0</td>\n",
       "    </tr>\n",
       "    <tr>\n",
       "      <th>2015-Q2</th>\n",
       "      <td>104.6</td>\n",
       "      <td>156.6</td>\n",
       "      <td>103.6</td>\n",
       "    </tr>\n",
       "    <tr>\n",
       "      <th>2015-Q1</th>\n",
       "      <td>100.1</td>\n",
       "      <td>100.1</td>\n",
       "      <td>99.1</td>\n",
       "    </tr>\n",
       "  </tbody>\n",
       "</table>\n",
       "</div>"
      ],
      "text/plain": [
       "         France  Germany  Poland\n",
       "2015-Q4   340.0    490.0   440.0\n",
       "2015-Q3   400.0    350.0   440.0\n",
       "2015-Q2   104.6    156.6   103.6\n",
       "2015-Q1   100.1    100.1    99.1"
      ]
     },
     "execution_count": 252,
     "metadata": {},
     "output_type": "execute_result"
    }
   ],
   "source": [
    "oil_df[::-1]"
   ]
  },
  {
   "cell_type": "code",
   "execution_count": 256,
   "metadata": {},
   "outputs": [],
   "source": [
    "#label oriented indexing\n",
    "\n",
    "snow_data = {'Months' : ['january','february','march','april','may','june'],\n",
    "              'Avg low temp' : [26,34,25,45,23,21],\n",
    "             'Avg precip' : [17.8,12.3,11.7,34,12.3,11.5],\n",
    "            'Avg snowdays' : [3.0,6.0,5.0,2.0,3.3,4.5]}"
   ]
  },
  {
   "cell_type": "code",
   "execution_count": 257,
   "metadata": {},
   "outputs": [
    {
     "data": {
      "text/html": [
       "<div>\n",
       "<style scoped>\n",
       "    .dataframe tbody tr th:only-of-type {\n",
       "        vertical-align: middle;\n",
       "    }\n",
       "\n",
       "    .dataframe tbody tr th {\n",
       "        vertical-align: top;\n",
       "    }\n",
       "\n",
       "    .dataframe thead th {\n",
       "        text-align: right;\n",
       "    }\n",
       "</style>\n",
       "<table border=\"1\" class=\"dataframe\">\n",
       "  <thead>\n",
       "    <tr style=\"text-align: right;\">\n",
       "      <th></th>\n",
       "      <th>Avg low temp</th>\n",
       "      <th>Avg precip</th>\n",
       "      <th>Avg snowdays</th>\n",
       "    </tr>\n",
       "  </thead>\n",
       "  <tbody>\n",
       "    <tr>\n",
       "      <th>january</th>\n",
       "      <td>26</td>\n",
       "      <td>17.8</td>\n",
       "      <td>3.0</td>\n",
       "    </tr>\n",
       "    <tr>\n",
       "      <th>february</th>\n",
       "      <td>34</td>\n",
       "      <td>12.3</td>\n",
       "      <td>6.0</td>\n",
       "    </tr>\n",
       "    <tr>\n",
       "      <th>march</th>\n",
       "      <td>25</td>\n",
       "      <td>11.7</td>\n",
       "      <td>5.0</td>\n",
       "    </tr>\n",
       "    <tr>\n",
       "      <th>april</th>\n",
       "      <td>45</td>\n",
       "      <td>34.0</td>\n",
       "      <td>2.0</td>\n",
       "    </tr>\n",
       "    <tr>\n",
       "      <th>may</th>\n",
       "      <td>23</td>\n",
       "      <td>12.3</td>\n",
       "      <td>3.3</td>\n",
       "    </tr>\n",
       "    <tr>\n",
       "      <th>june</th>\n",
       "      <td>21</td>\n",
       "      <td>11.5</td>\n",
       "      <td>4.5</td>\n",
       "    </tr>\n",
       "  </tbody>\n",
       "</table>\n",
       "</div>"
      ],
      "text/plain": [
       "          Avg low temp  Avg precip  Avg snowdays\n",
       "january             26        17.8           3.0\n",
       "february            34        12.3           6.0\n",
       "march               25        11.7           5.0\n",
       "april               45        34.0           2.0\n",
       "may                 23        12.3           3.3\n",
       "june                21        11.5           4.5"
      ]
     },
     "execution_count": 257,
     "metadata": {},
     "output_type": "execute_result"
    }
   ],
   "source": [
    "snow_df = pd.DataFrame(snow_data, index = snow_data['Months'],columns = ['Avg low temp','Avg precip','Avg snowdays'])\n",
    "snow_df"
   ]
  },
  {
   "cell_type": "code",
   "execution_count": 259,
   "metadata": {},
   "outputs": [
    {
     "data": {
      "text/plain": [
       "Avg low temp    26.0\n",
       "Avg precip      17.8\n",
       "Avg snowdays     3.0\n",
       "Name: january, dtype: float64"
      ]
     },
     "execution_count": 259,
     "metadata": {},
     "output_type": "execute_result"
    }
   ],
   "source": [
    "snow_df.loc['january']"
   ]
  },
  {
   "cell_type": "code",
   "execution_count": 262,
   "metadata": {},
   "outputs": [
    {
     "data": {
      "text/html": [
       "<div>\n",
       "<style scoped>\n",
       "    .dataframe tbody tr th:only-of-type {\n",
       "        vertical-align: middle;\n",
       "    }\n",
       "\n",
       "    .dataframe tbody tr th {\n",
       "        vertical-align: top;\n",
       "    }\n",
       "\n",
       "    .dataframe thead th {\n",
       "        text-align: right;\n",
       "    }\n",
       "</style>\n",
       "<table border=\"1\" class=\"dataframe\">\n",
       "  <thead>\n",
       "    <tr style=\"text-align: right;\">\n",
       "      <th></th>\n",
       "      <th>Avg low temp</th>\n",
       "      <th>Avg precip</th>\n",
       "      <th>Avg snowdays</th>\n",
       "    </tr>\n",
       "  </thead>\n",
       "  <tbody>\n",
       "    <tr>\n",
       "      <th>january</th>\n",
       "      <td>26</td>\n",
       "      <td>17.8</td>\n",
       "      <td>3.0</td>\n",
       "    </tr>\n",
       "    <tr>\n",
       "      <th>june</th>\n",
       "      <td>21</td>\n",
       "      <td>11.5</td>\n",
       "      <td>4.5</td>\n",
       "    </tr>\n",
       "  </tbody>\n",
       "</table>\n",
       "</div>"
      ],
      "text/plain": [
       "         Avg low temp  Avg precip  Avg snowdays\n",
       "january            26        17.8           3.0\n",
       "june               21        11.5           4.5"
      ]
     },
     "execution_count": 262,
     "metadata": {},
     "output_type": "execute_result"
    }
   ],
   "source": [
    "snow_df.loc[['january','june']] #row,col"
   ]
  },
  {
   "cell_type": "code",
   "execution_count": 270,
   "metadata": {},
   "outputs": [
    {
     "name": "stdout",
     "output_type": "stream",
     "text": [
      "23\n"
     ]
    },
    {
     "data": {
      "text/plain": [
       "23"
      ]
     },
     "execution_count": 270,
     "metadata": {},
     "output_type": "execute_result"
    }
   ],
   "source": [
    "print(snow_df.loc['may','Avg low temp']) # or snow_df.loc['may']['Avg low temp']    #row,col\n",
    "snow_df['Avg low temp']['may']   #col, row"
   ]
  },
  {
   "cell_type": "code",
   "execution_count": 286,
   "metadata": {},
   "outputs": [
    {
     "data": {
      "text/html": [
       "<div>\n",
       "<style scoped>\n",
       "    .dataframe tbody tr th:only-of-type {\n",
       "        vertical-align: middle;\n",
       "    }\n",
       "\n",
       "    .dataframe tbody tr th {\n",
       "        vertical-align: top;\n",
       "    }\n",
       "\n",
       "    .dataframe thead th {\n",
       "        text-align: right;\n",
       "    }\n",
       "</style>\n",
       "<table border=\"1\" class=\"dataframe\">\n",
       "  <thead>\n",
       "    <tr style=\"text-align: right;\">\n",
       "      <th></th>\n",
       "      <th>France</th>\n",
       "      <th>Germany</th>\n",
       "      <th>Poland</th>\n",
       "    </tr>\n",
       "  </thead>\n",
       "  <tbody>\n",
       "    <tr>\n",
       "      <th>2015-Q1</th>\n",
       "      <td>100.1</td>\n",
       "      <td>100.1</td>\n",
       "      <td>99.1</td>\n",
       "    </tr>\n",
       "    <tr>\n",
       "      <th>2015-Q2</th>\n",
       "      <td>104.6</td>\n",
       "      <td>156.6</td>\n",
       "      <td>103.6</td>\n",
       "    </tr>\n",
       "    <tr>\n",
       "      <th>2015-Q3</th>\n",
       "      <td>400.0</td>\n",
       "      <td>350.0</td>\n",
       "      <td>440.0</td>\n",
       "    </tr>\n",
       "    <tr>\n",
       "      <th>2015-Q4</th>\n",
       "      <td>340.0</td>\n",
       "      <td>490.0</td>\n",
       "      <td>440.0</td>\n",
       "    </tr>\n",
       "  </tbody>\n",
       "</table>\n",
       "</div>"
      ],
      "text/plain": [
       "         France  Germany  Poland\n",
       "2015-Q1   100.1    100.1    99.1\n",
       "2015-Q2   104.6    156.6   103.6\n",
       "2015-Q3   400.0    350.0   440.0\n",
       "2015-Q4   340.0    490.0   440.0"
      ]
     },
     "execution_count": 286,
     "metadata": {},
     "output_type": "execute_result"
    }
   ],
   "source": [
    "oil_data = {'France':{'2015-Q1': 100.1, '2015-Q2': 104.6, '2015-Q3': 400, '2015-Q4': 340},\n",
    "            'Germany':{'2015-Q1': 100.1, '2015-Q2': 156.6, '2015-Q3': 350, '2015-Q4': 490},\n",
    "           'Poland':{'2015-Q1': 99.1, '2015-Q2': 103.6, '2015-Q3': 440, '2015-Q4': 440}}\n",
    "oil_df = pd.DataFrame(oil_data)\n",
    "oil_df"
   ]
  },
  {
   "cell_type": "code",
   "execution_count": 307,
   "metadata": {},
   "outputs": [
    {
     "data": {
      "text/plain": [
       "France     100.1\n",
       "Germany    100.1\n",
       "Name: 2015-Q1, dtype: float64"
      ]
     },
     "execution_count": 307,
     "metadata": {},
     "output_type": "execute_result"
    }
   ],
   "source": [
    "#conditional indexing\n",
    "oil_df.loc['2015-Q1',oil_df.loc['2015-Q1'] >100]"
   ]
  },
  {
   "cell_type": "code",
   "execution_count": 309,
   "metadata": {},
   "outputs": [
    {
     "data": {
      "text/html": [
       "<div>\n",
       "<style scoped>\n",
       "    .dataframe tbody tr th:only-of-type {\n",
       "        vertical-align: middle;\n",
       "    }\n",
       "\n",
       "    .dataframe tbody tr th {\n",
       "        vertical-align: top;\n",
       "    }\n",
       "\n",
       "    .dataframe thead th {\n",
       "        text-align: right;\n",
       "    }\n",
       "</style>\n",
       "<table border=\"1\" class=\"dataframe\">\n",
       "  <thead>\n",
       "    <tr style=\"text-align: right;\">\n",
       "      <th></th>\n",
       "      <th>France</th>\n",
       "      <th>Germany</th>\n",
       "    </tr>\n",
       "  </thead>\n",
       "  <tbody>\n",
       "    <tr>\n",
       "      <th>2015-Q1</th>\n",
       "      <td>100.1</td>\n",
       "      <td>100.1</td>\n",
       "    </tr>\n",
       "    <tr>\n",
       "      <th>2015-Q2</th>\n",
       "      <td>104.6</td>\n",
       "      <td>156.6</td>\n",
       "    </tr>\n",
       "    <tr>\n",
       "      <th>2015-Q3</th>\n",
       "      <td>400.0</td>\n",
       "      <td>350.0</td>\n",
       "    </tr>\n",
       "    <tr>\n",
       "      <th>2015-Q4</th>\n",
       "      <td>340.0</td>\n",
       "      <td>490.0</td>\n",
       "    </tr>\n",
       "  </tbody>\n",
       "</table>\n",
       "</div>"
      ],
      "text/plain": [
       "         France  Germany\n",
       "2015-Q1   100.1    100.1\n",
       "2015-Q2   104.6    156.6\n",
       "2015-Q3   400.0    350.0\n",
       "2015-Q4   340.0    490.0"
      ]
     },
     "execution_count": 309,
     "metadata": {},
     "output_type": "execute_result"
    }
   ],
   "source": [
    "oil_df.loc[:,oil_df.loc['2015-Q1'] >100]"
   ]
  },
  {
   "cell_type": "code",
   "execution_count": 311,
   "metadata": {},
   "outputs": [
    {
     "data": {
      "text/plain": [
       "France      True\n",
       "Germany     True\n",
       "Poland     False\n",
       "Name: 2015-Q1, dtype: bool"
      ]
     },
     "execution_count": 311,
     "metadata": {},
     "output_type": "execute_result"
    }
   ],
   "source": [
    "oil_df.loc['2015-Q1'] >100"
   ]
  },
  {
   "cell_type": "code",
   "execution_count": 316,
   "metadata": {},
   "outputs": [
    {
     "data": {
      "text/plain": [
       "{'x': [1, 2, 3, 4, 5], 'y': [6, 9, 7, 8, 10], 'z': [11, 12, 13, 14, 15]}"
      ]
     },
     "execution_count": 316,
     "metadata": {},
     "output_type": "execute_result"
    }
   ],
   "source": [
    "z = {'x': [1,2,3,4,5],'y':[6,9,7,8,10],'z':[11,12,13,14,15]}\n",
    "z"
   ]
  },
  {
   "cell_type": "code",
   "execution_count": 319,
   "metadata": {},
   "outputs": [
    {
     "data": {
      "text/html": [
       "<div>\n",
       "<style scoped>\n",
       "    .dataframe tbody tr th:only-of-type {\n",
       "        vertical-align: middle;\n",
       "    }\n",
       "\n",
       "    .dataframe tbody tr th {\n",
       "        vertical-align: top;\n",
       "    }\n",
       "\n",
       "    .dataframe thead th {\n",
       "        text-align: right;\n",
       "    }\n",
       "</style>\n",
       "<table border=\"1\" class=\"dataframe\">\n",
       "  <thead>\n",
       "    <tr style=\"text-align: right;\">\n",
       "      <th></th>\n",
       "      <th>x</th>\n",
       "      <th>y</th>\n",
       "      <th>z</th>\n",
       "    </tr>\n",
       "  </thead>\n",
       "  <tbody>\n",
       "    <tr>\n",
       "      <th>0</th>\n",
       "      <td>1</td>\n",
       "      <td>6</td>\n",
       "      <td>11</td>\n",
       "    </tr>\n",
       "    <tr>\n",
       "      <th>2</th>\n",
       "      <td>2</td>\n",
       "      <td>9</td>\n",
       "      <td>12</td>\n",
       "    </tr>\n",
       "    <tr>\n",
       "      <th>4</th>\n",
       "      <td>3</td>\n",
       "      <td>7</td>\n",
       "      <td>13</td>\n",
       "    </tr>\n",
       "    <tr>\n",
       "      <th>6</th>\n",
       "      <td>4</td>\n",
       "      <td>8</td>\n",
       "      <td>14</td>\n",
       "    </tr>\n",
       "    <tr>\n",
       "      <th>8</th>\n",
       "      <td>5</td>\n",
       "      <td>10</td>\n",
       "      <td>15</td>\n",
       "    </tr>\n",
       "  </tbody>\n",
       "</table>\n",
       "</div>"
      ],
      "text/plain": [
       "   x   y   z\n",
       "0  1   6  11\n",
       "2  2   9  12\n",
       "4  3   7  13\n",
       "6  4   8  14\n",
       "8  5  10  15"
      ]
     },
     "execution_count": 319,
     "metadata": {},
     "output_type": "execute_result"
    }
   ],
   "source": [
    "x1 = pd.DataFrame(z, index=list(range(0,10,2)))\n",
    "x1"
   ]
  },
  {
   "cell_type": "code",
   "execution_count": 337,
   "metadata": {},
   "outputs": [
    {
     "name": "stdout",
     "output_type": "stream",
     "text": [
      "   x   y   z\n",
      "0  1   6  11\n",
      "2  2   9  12\n",
      "4  3   7  13\n",
      "6  4   8  14\n",
      "8  5  10  15\n",
      "   x   y   z\n",
      "0  1   6  11\n",
      "2  2   9  12\n",
      "4  3   7  13\n",
      "6  4   8  14\n",
      "8  5  10  15\n"
     ]
    }
   ],
   "source": [
    "print(x1.iloc[:,0:])\n",
    "print(x1.loc[:,'x':'z'])"
   ]
  },
  {
   "cell_type": "code",
   "execution_count": 339,
   "metadata": {},
   "outputs": [
    {
     "data": {
      "text/plain": [
       "1"
      ]
     },
     "execution_count": 339,
     "metadata": {},
     "output_type": "execute_result"
    }
   ],
   "source": [
    "x1.iloc[0,0]"
   ]
  },
  {
   "cell_type": "code",
   "execution_count": 345,
   "metadata": {},
   "outputs": [
    {
     "data": {
      "text/html": [
       "<div>\n",
       "<style scoped>\n",
       "    .dataframe tbody tr th:only-of-type {\n",
       "        vertical-align: middle;\n",
       "    }\n",
       "\n",
       "    .dataframe tbody tr th {\n",
       "        vertical-align: top;\n",
       "    }\n",
       "\n",
       "    .dataframe thead th {\n",
       "        text-align: right;\n",
       "    }\n",
       "</style>\n",
       "<table border=\"1\" class=\"dataframe\">\n",
       "  <thead>\n",
       "    <tr style=\"text-align: right;\">\n",
       "      <th></th>\n",
       "      <th>TradingDate</th>\n",
       "      <th>PriceType</th>\n",
       "      <th>Nasdaq</th>\n",
       "      <th>S&amp;P 500</th>\n",
       "      <th>Russell 2000</th>\n",
       "    </tr>\n",
       "  </thead>\n",
       "  <tbody>\n",
       "    <tr>\n",
       "      <th>0</th>\n",
       "      <td>2014/02/21</td>\n",
       "      <td>open</td>\n",
       "      <td>4282.17</td>\n",
       "      <td>1841.07</td>\n",
       "      <td>1166.25</td>\n",
       "    </tr>\n",
       "    <tr>\n",
       "      <th>1</th>\n",
       "      <td>2014/02/21</td>\n",
       "      <td>close</td>\n",
       "      <td>4263.41</td>\n",
       "      <td>1836.25</td>\n",
       "      <td>1164.63</td>\n",
       "    </tr>\n",
       "    <tr>\n",
       "      <th>2</th>\n",
       "      <td>2014/02/21</td>\n",
       "      <td>high</td>\n",
       "      <td>4284.85</td>\n",
       "      <td>1846.13</td>\n",
       "      <td>1168.43</td>\n",
       "    </tr>\n",
       "    <tr>\n",
       "      <th>3</th>\n",
       "      <td>2014/02/24</td>\n",
       "      <td>open</td>\n",
       "      <td>4273.32</td>\n",
       "      <td>1836.78</td>\n",
       "      <td>1166.74</td>\n",
       "    </tr>\n",
       "    <tr>\n",
       "      <th>4</th>\n",
       "      <td>2014/02/24</td>\n",
       "      <td>close</td>\n",
       "      <td>4292.97</td>\n",
       "      <td>1847.61</td>\n",
       "      <td>1174.55</td>\n",
       "    </tr>\n",
       "    <tr>\n",
       "      <th>5</th>\n",
       "      <td>2014/02/24</td>\n",
       "      <td>high</td>\n",
       "      <td>4311.13</td>\n",
       "      <td>1858.71</td>\n",
       "      <td>1180.29</td>\n",
       "    </tr>\n",
       "    <tr>\n",
       "      <th>6</th>\n",
       "      <td>2014/02/25</td>\n",
       "      <td>open</td>\n",
       "      <td>4298.48</td>\n",
       "      <td>1847.66</td>\n",
       "      <td>1176.00</td>\n",
       "    </tr>\n",
       "    <tr>\n",
       "      <th>7</th>\n",
       "      <td>2014/02/25</td>\n",
       "      <td>close</td>\n",
       "      <td>4287.59</td>\n",
       "      <td>1845.12</td>\n",
       "      <td>1173.95</td>\n",
       "    </tr>\n",
       "    <tr>\n",
       "      <th>8</th>\n",
       "      <td>2014/02/25</td>\n",
       "      <td>high</td>\n",
       "      <td>4307.51</td>\n",
       "      <td>1852.91</td>\n",
       "      <td>1179.43</td>\n",
       "    </tr>\n",
       "    <tr>\n",
       "      <th>9</th>\n",
       "      <td>2014/02/26</td>\n",
       "      <td>open</td>\n",
       "      <td>4300.45</td>\n",
       "      <td>1845.79</td>\n",
       "      <td>1176.11</td>\n",
       "    </tr>\n",
       "    <tr>\n",
       "      <th>10</th>\n",
       "      <td>2014/02/26</td>\n",
       "      <td>close</td>\n",
       "      <td>4292.06</td>\n",
       "      <td>1845.16</td>\n",
       "      <td>1181.72</td>\n",
       "    </tr>\n",
       "    <tr>\n",
       "      <th>11</th>\n",
       "      <td>2014/02/26</td>\n",
       "      <td>high</td>\n",
       "      <td>4316.82</td>\n",
       "      <td>1852.65</td>\n",
       "      <td>1188.06</td>\n",
       "    </tr>\n",
       "    <tr>\n",
       "      <th>12</th>\n",
       "      <td>2014/02/27</td>\n",
       "      <td>open</td>\n",
       "      <td>4291.47</td>\n",
       "      <td>1844.90</td>\n",
       "      <td>1179.28</td>\n",
       "    </tr>\n",
       "    <tr>\n",
       "      <th>13</th>\n",
       "      <td>2014/02/27</td>\n",
       "      <td>close</td>\n",
       "      <td>4318.93</td>\n",
       "      <td>1854.29</td>\n",
       "      <td>1187.94</td>\n",
       "    </tr>\n",
       "    <tr>\n",
       "      <th>14</th>\n",
       "      <td>2014/02/27</td>\n",
       "      <td>high</td>\n",
       "      <td>4322.46</td>\n",
       "      <td>1854.53</td>\n",
       "      <td>1187.94</td>\n",
       "    </tr>\n",
       "    <tr>\n",
       "      <th>15</th>\n",
       "      <td>2014/02/28</td>\n",
       "      <td>open</td>\n",
       "      <td>4323.52</td>\n",
       "      <td>1855.12</td>\n",
       "      <td>1189.19</td>\n",
       "    </tr>\n",
       "    <tr>\n",
       "      <th>16</th>\n",
       "      <td>2014/02/28</td>\n",
       "      <td>close</td>\n",
       "      <td>4308.12</td>\n",
       "      <td>1859.45</td>\n",
       "      <td>1183.03</td>\n",
       "    </tr>\n",
       "    <tr>\n",
       "      <th>17</th>\n",
       "      <td>2014/02/28</td>\n",
       "      <td>high</td>\n",
       "      <td>4342.59</td>\n",
       "      <td>1867.92</td>\n",
       "      <td>1193.50</td>\n",
       "    </tr>\n",
       "  </tbody>\n",
       "</table>\n",
       "</div>"
      ],
      "text/plain": [
       "   TradingDate PriceType   Nasdaq  S&P 500  Russell 2000\n",
       "0   2014/02/21      open  4282.17  1841.07       1166.25\n",
       "1   2014/02/21     close  4263.41  1836.25       1164.63\n",
       "2   2014/02/21      high  4284.85  1846.13       1168.43\n",
       "3   2014/02/24      open  4273.32  1836.78       1166.74\n",
       "4   2014/02/24     close  4292.97  1847.61       1174.55\n",
       "5   2014/02/24      high  4311.13  1858.71       1180.29\n",
       "6   2014/02/25      open  4298.48  1847.66       1176.00\n",
       "7   2014/02/25     close  4287.59  1845.12       1173.95\n",
       "8   2014/02/25      high  4307.51  1852.91       1179.43\n",
       "9   2014/02/26      open  4300.45  1845.79       1176.11\n",
       "10  2014/02/26     close  4292.06  1845.16       1181.72\n",
       "11  2014/02/26      high  4316.82  1852.65       1188.06\n",
       "12  2014/02/27      open  4291.47  1844.90       1179.28\n",
       "13  2014/02/27     close  4318.93  1854.29       1187.94\n",
       "14  2014/02/27      high  4322.46  1854.53       1187.94\n",
       "15  2014/02/28      open  4323.52  1855.12       1189.19\n",
       "16  2014/02/28     close  4308.12  1859.45       1183.03\n",
       "17  2014/02/28      high  4342.59  1867.92       1193.50"
      ]
     },
     "execution_count": 345,
     "metadata": {},
     "output_type": "execute_result"
    }
   ],
   "source": [
    "stock_prices = pd.read_csv(\"D:\\Python_programming\\Term1\\stock_index_prices.csv\")\n",
    "stock_prices"
   ]
  },
  {
   "cell_type": "code",
   "execution_count": 367,
   "metadata": {},
   "outputs": [
    {
     "name": "stderr",
     "output_type": "stream",
     "text": [
      "C:\\ProgramData\\Anaconda3\\lib\\site-packages\\ipykernel_launcher.py:1: DeprecationWarning: \n",
      ".ix is deprecated. Please use\n",
      ".loc for label based indexing or\n",
      ".iloc for positional indexing\n",
      "\n",
      "See the documentation here:\n",
      "http://pandas.pydata.org/pandas-docs/stable/indexing.html#ix-indexer-is-deprecated\n",
      "  \"\"\"Entry point for launching an IPython kernel.\n"
     ]
    },
    {
     "data": {
      "text/html": [
       "<div>\n",
       "<style scoped>\n",
       "    .dataframe tbody tr th:only-of-type {\n",
       "        vertical-align: middle;\n",
       "    }\n",
       "\n",
       "    .dataframe tbody tr th {\n",
       "        vertical-align: top;\n",
       "    }\n",
       "\n",
       "    .dataframe thead th {\n",
       "        text-align: right;\n",
       "    }\n",
       "</style>\n",
       "<table border=\"1\" class=\"dataframe\">\n",
       "  <thead>\n",
       "    <tr style=\"text-align: right;\">\n",
       "      <th></th>\n",
       "      <th>TradingDate</th>\n",
       "      <th>PriceType</th>\n",
       "      <th>Nasdaq</th>\n",
       "      <th>S&amp;P 500</th>\n",
       "      <th>Russell 2000</th>\n",
       "    </tr>\n",
       "  </thead>\n",
       "  <tbody>\n",
       "    <tr>\n",
       "      <th>13</th>\n",
       "      <td>2014/02/27</td>\n",
       "      <td>close</td>\n",
       "      <td>4318.93</td>\n",
       "      <td>1854.29</td>\n",
       "      <td>1187.94</td>\n",
       "    </tr>\n",
       "    <tr>\n",
       "      <th>16</th>\n",
       "      <td>2014/02/28</td>\n",
       "      <td>close</td>\n",
       "      <td>4308.12</td>\n",
       "      <td>1859.45</td>\n",
       "      <td>1183.03</td>\n",
       "    </tr>\n",
       "  </tbody>\n",
       "</table>\n",
       "</div>"
      ],
      "text/plain": [
       "   TradingDate PriceType   Nasdaq  S&P 500  Russell 2000\n",
       "13  2014/02/27     close  4318.93  1854.29       1187.94\n",
       "16  2014/02/28     close  4308.12  1859.45       1183.03"
      ]
     },
     "execution_count": 367,
     "metadata": {},
     "output_type": "execute_result"
    }
   ],
   "source": [
    "stock_prices.ix[(stock_prices['PriceType'] == 'close') & (stock_prices['Nasdaq'] > 4300)]"
   ]
  },
  {
   "cell_type": "code",
   "execution_count": 371,
   "metadata": {},
   "outputs": [
    {
     "data": {
      "text/html": [
       "<div>\n",
       "<style scoped>\n",
       "    .dataframe tbody tr th:only-of-type {\n",
       "        vertical-align: middle;\n",
       "    }\n",
       "\n",
       "    .dataframe tbody tr th {\n",
       "        vertical-align: top;\n",
       "    }\n",
       "\n",
       "    .dataframe thead th {\n",
       "        text-align: right;\n",
       "    }\n",
       "</style>\n",
       "<table border=\"1\" class=\"dataframe\">\n",
       "  <thead>\n",
       "    <tr style=\"text-align: right;\">\n",
       "      <th></th>\n",
       "      <th>TradingDate</th>\n",
       "      <th>PriceType</th>\n",
       "      <th>Nasdaq</th>\n",
       "      <th>S&amp;P 500</th>\n",
       "      <th>Russell 2000</th>\n",
       "    </tr>\n",
       "  </thead>\n",
       "  <tbody>\n",
       "    <tr>\n",
       "      <th>13</th>\n",
       "      <td>2014/02/27</td>\n",
       "      <td>close</td>\n",
       "      <td>4318.93</td>\n",
       "      <td>1854.29</td>\n",
       "      <td>1187.94</td>\n",
       "    </tr>\n",
       "    <tr>\n",
       "      <th>16</th>\n",
       "      <td>2014/02/28</td>\n",
       "      <td>close</td>\n",
       "      <td>4308.12</td>\n",
       "      <td>1859.45</td>\n",
       "      <td>1183.03</td>\n",
       "    </tr>\n",
       "  </tbody>\n",
       "</table>\n",
       "</div>"
      ],
      "text/plain": [
       "   TradingDate PriceType   Nasdaq  S&P 500  Russell 2000\n",
       "13  2014/02/27     close  4318.93  1854.29       1187.94\n",
       "16  2014/02/28     close  4308.12  1859.45       1183.03"
      ]
     },
     "execution_count": 371,
     "metadata": {},
     "output_type": "execute_result"
    }
   ],
   "source": [
    "stock_prices.loc[(stock_prices.iloc[:,1] == 'close') & (stock_prices.iloc[:,2] > 4300)]"
   ]
  },
  {
   "cell_type": "code",
   "execution_count": null,
   "metadata": {},
   "outputs": [],
   "source": [
    "stock_prices.loc[(stock_prices.iloc[:,1] == 'close') & (stock_prices.iloc[:,2] > 4300)]"
   ]
  }
 ],
 "metadata": {
  "kernelspec": {
   "display_name": "Python 3",
   "language": "python",
   "name": "python3"
  },
  "language_info": {
   "codemirror_mode": {
    "name": "ipython",
    "version": 3
   },
   "file_extension": ".py",
   "mimetype": "text/x-python",
   "name": "python",
   "nbconvert_exporter": "python",
   "pygments_lexer": "ipython3",
   "version": "3.7.1"
  }
 },
 "nbformat": 4,
 "nbformat_minor": 2
}
