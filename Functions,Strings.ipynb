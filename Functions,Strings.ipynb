{
 "cells": [
  {
   "cell_type": "markdown",
   "metadata": {},
   "source": [
    "# User Defined Functions"
   ]
  },
  {
   "cell_type": "code",
   "execution_count": 8,
   "metadata": {},
   "outputs": [
    {
     "name": "stdout",
     "output_type": "stream",
     "text": [
      "Hello****all\n",
      "\n",
      "Welcome to you\n"
     ]
    }
   ],
   "source": [
    "def myfun():  #function definition\n",
    "    print(\"Hello\",\"all\",sep=\"****\",end=\"\\n\\n\")\n",
    "    print(\"Welcome to you\")\n",
    "    \n",
    "myfun()    #function call"
   ]
  },
  {
   "cell_type": "code",
   "execution_count": 10,
   "metadata": {},
   "outputs": [
    {
     "data": {
      "text/plain": [
       "function"
      ]
     },
     "execution_count": 10,
     "metadata": {},
     "output_type": "execute_result"
    }
   ],
   "source": [
    "type(myfun)"
   ]
  },
  {
   "cell_type": "code",
   "execution_count": 11,
   "metadata": {},
   "outputs": [
    {
     "name": "stdout",
     "output_type": "stream",
     "text": [
      "<function myfun at 0x000002795FF988C8>\n"
     ]
    }
   ],
   "source": [
    "print(myfun)"
   ]
  },
  {
   "cell_type": "markdown",
   "metadata": {},
   "source": [
    "# Function with arguments"
   ]
  },
  {
   "cell_type": "code",
   "execution_count": 13,
   "metadata": {},
   "outputs": [
    {
     "name": "stdout",
     "output_type": "stream",
     "text": [
      "Example of function with arguments\n",
      "Inside test()\n",
      "Argument is  hello\n",
      "Type of argument is  <class 'str'>\n",
      "Inside test()\n",
      "Argument is  20\n",
      "Type of argument is  <class 'int'>\n",
      "Over!!\n"
     ]
    }
   ],
   "source": [
    "def test(var):\n",
    "    print(\"Inside test()\")\n",
    "    print(\"Argument is \",var)\n",
    "    print(\"Type of argument is \",type(var))\n",
    "    \n",
    "print(\"Example of function with arguments\")\n",
    "x=\"hello\"\n",
    "test(x)\n",
    "y=20\n",
    "test(y)\n",
    "print(\"Over!!\")"
   ]
  },
  {
   "cell_type": "markdown",
   "metadata": {},
   "source": [
    "# Function with two arguments"
   ]
  },
  {
   "cell_type": "code",
   "execution_count": 19,
   "metadata": {},
   "outputs": [
    {
     "name": "stdout",
     "output_type": "stream",
     "text": [
      "Adding  srtyt  and  brhgk  =  srtytbrhgk\n",
      "Adding  23  and  38  =  61\n",
      "Adding  2.4  and  9.6  =  12.0\n"
     ]
    }
   ],
   "source": [
    "def add(var1,var2):\n",
    "    print(\"Adding \",var1,\" and \",var2,\" = \",var1+var2)\n",
    "    \n",
    "add(\"srtyt\",\"brhgk\")\n",
    "add(23,38)\n",
    "add(2.4,9.6)"
   ]
  },
  {
   "cell_type": "code",
   "execution_count": 28,
   "metadata": {},
   "outputs": [
    {
     "name": "stdout",
     "output_type": "stream",
     "text": [
      "Enter first number 34\n",
      "Enter second number 45\n",
      "Adding  34  and  45\n",
      "value is  79\n"
     ]
    }
   ],
   "source": [
    "def add(var1,var2):\n",
    "    print(\"Adding \",var1,\" and \",var2)\n",
    "    return var1+var2\n",
    "\n",
    "print(\"value is \",add(int(input(\"Enter first number \")),int(input(\"Enter second number \"))))\n"
   ]
  },
  {
   "cell_type": "code",
   "execution_count": 34,
   "metadata": {},
   "outputs": [
    {
     "name": "stdout",
     "output_type": "stream",
     "text": [
      "Example of function with arguments\n",
      "Inside test()\n",
      "Argument is  hellohellohello\n",
      "Inside test()\n",
      "Argument is  80\n",
      "Inside test()\n",
      "Argument is  0\n",
      "over!!\n"
     ]
    }
   ],
   "source": [
    "#multiplying arguments\n",
    "\n",
    "def test(var):\n",
    "    print(\"Inside test()\")\n",
    "    print(\"Argument is \",var)\n",
    "\n",
    "print(\"Example of function with arguments\")\n",
    "x=\"hello\"\n",
    "test(x*3)\n",
    "y =20\n",
    "test(y*4)\n",
    "test(False * 7)\n",
    "print(\"over!!\")"
   ]
  },
  {
   "cell_type": "code",
   "execution_count": 40,
   "metadata": {},
   "outputs": [
    {
     "name": "stdout",
     "output_type": "stream",
     "text": [
      "20 17 14 11 8 5 2 "
     ]
    }
   ],
   "source": [
    "for i in range(20,0,-3):\n",
    "    print(i,end=\" \")"
   ]
  },
  {
   "cell_type": "code",
   "execution_count": 44,
   "metadata": {},
   "outputs": [
    {
     "name": "stdout",
     "output_type": "stream",
     "text": [
      "0 1 2 3 4 5 6 7 8 9 "
     ]
    }
   ],
   "source": [
    "for i in range(10):\n",
    "    print(i,end=\" \")"
   ]
  },
  {
   "cell_type": "code",
   "execution_count": null,
   "metadata": {},
   "outputs": [],
   "source": [
    "#while loop\n",
    "\n",
    "x=0\n",
    "while x<10:\n",
    "    print(x, end=\" \")\n",
    "    x=x+2"
   ]
  },
  {
   "cell_type": "markdown",
   "metadata": {},
   "source": [
    "# Strings"
   ]
  },
  {
   "cell_type": "code",
   "execution_count": 54,
   "metadata": {},
   "outputs": [
    {
     "name": "stdout",
     "output_type": "stream",
     "text": [
      "o\n"
     ]
    }
   ],
   "source": [
    "word=\"Hello\"\n",
    "print(word[4])"
   ]
  },
  {
   "cell_type": "code",
   "execution_count": 55,
   "metadata": {},
   "outputs": [
    {
     "name": "stdout",
     "output_type": "stream",
     "text": [
      "T\n"
     ]
    }
   ],
   "source": [
    "word=\"True\"\n",
    "print(word[0])"
   ]
  },
  {
   "cell_type": "code",
   "execution_count": 59,
   "metadata": {},
   "outputs": [
    {
     "name": "stdout",
     "output_type": "stream",
     "text": [
      "m\n"
     ]
    }
   ],
   "source": [
    "word=\"alexander graham bell\"\n",
    "print(word[-6])"
   ]
  },
  {
   "cell_type": "code",
   "execution_count": 72,
   "metadata": {},
   "outputs": [
    {
     "name": "stdout",
     "output_type": "stream",
     "text": [
      "H e l o o "
     ]
    }
   ],
   "source": [
    "#Using loops in string\n",
    "\n",
    "string = 'Heloo world'\n",
    "\n",
    "for i in string:\n",
    "    if i == ' ':\n",
    "        break\n",
    "        \n",
    "    print(i,end=\" \")"
   ]
  },
  {
   "cell_type": "code",
   "execution_count": 21,
   "metadata": {},
   "outputs": [
    {
     "name": "stdout",
     "output_type": "stream",
     "text": [
      "Hello\n",
      "Hello\n",
      "lo Wo\n",
      "o World\n",
      "\n",
      "Hello World\n",
      " Worl\n",
      "Wo\n"
     ]
    }
   ],
   "source": [
    "st = 'Hello World'\n",
    "\n",
    "print(st[0:5])\n",
    "print(st[:5])\n",
    "print(st[3:8])\n",
    "print(st[4:])\n",
    "print(st[3:3])\n",
    "print(st[:])\n",
    "print(st[5:-1])\n",
    "print(st[-5:8])"
   ]
  },
  {
   "cell_type": "code",
   "execution_count": 33,
   "metadata": {
    "scrolled": true
   },
   "outputs": [
    {
     "name": "stdout",
     "output_type": "stream",
     "text": [
      "Hello\n",
      "HloWrd\n",
      "l o\n",
      "eoo\n",
      "orl\n",
      "d\n",
      "Hello Worl\n",
      "Hello World\n",
      "dlroW olleH\n",
      "drWolH\n"
     ]
    }
   ],
   "source": [
    "print(st[0:5:1])\n",
    "print(st[::2])\n",
    "print(st[3:8:2])\n",
    "print(st[1:8:3])\n",
    "print(st[-4:-1])\n",
    "print(st[-1:])\n",
    "print(st[0:-1])\n",
    "print(st[::])\n",
    "print(st[::-1])\n",
    "print(st[::-2])\n"
   ]
  },
  {
   "cell_type": "code",
   "execution_count": 42,
   "metadata": {},
   "outputs": [
    {
     "name": "stdout",
     "output_type": "stream",
     "text": [
      "oW oll\n"
     ]
    }
   ],
   "source": [
    "print(st[7:1:-1])"
   ]
  },
  {
   "cell_type": "code",
   "execution_count": 44,
   "metadata": {},
   "outputs": [
    {
     "data": {
      "text/plain": [
       "'Hxllo'"
      ]
     },
     "execution_count": 44,
     "metadata": {},
     "output_type": "execute_result"
    }
   ],
   "source": [
    "#strings are immutable\n",
    "st=\"Hello\"\n",
    "\n",
    "st = st[0] + 'x' + st[2:]\n",
    "st"
   ]
  },
  {
   "cell_type": "code",
   "execution_count": 56,
   "metadata": {},
   "outputs": [
    {
     "name": "stdout",
     "output_type": "stream",
     "text": [
      "Enter a string :kuenjhe eyuyuafdxdzwaq  vgrev\n",
      "enter character :e\n",
      "Number of character  e  in  kuenjhe eyuyuafdxdzwaq  vgrev  is  4\n"
     ]
    }
   ],
   "source": [
    "st1 = input(\"Enter a string :\")\n",
    "char = input(\"enter character :\")\n",
    "count =0\n",
    "for i in st1:\n",
    "    if i==char:\n",
    "        count+=1\n",
    "        \n",
    "        \n",
    "print('Number of character ',char,' in ',st1,' is ',count)"
   ]
  },
  {
   "cell_type": "code",
   "execution_count": 58,
   "metadata": {},
   "outputs": [
    {
     "name": "stdout",
     "output_type": "stream",
     "text": [
      "1296\n"
     ]
    }
   ],
   "source": [
    "def h(m,n):\n",
    "    ans = 1\n",
    "    while n>0:\n",
    "        ans,n=ans*m,n-2\n",
    "    return ans\n",
    "print(h(6,8))"
   ]
  },
  {
   "cell_type": "code",
   "execution_count": 67,
   "metadata": {},
   "outputs": [
    {
     "name": "stdout",
     "output_type": "stream",
     "text": [
      "Hello world\n",
      "hello world\n"
     ]
    }
   ],
   "source": [
    "print(str.capitalize(\"hello WORLD\"))\n",
    "print(str.lower(\"hello WORLD\"))"
   ]
  },
  {
   "cell_type": "code",
   "execution_count": 62,
   "metadata": {},
   "outputs": [
    {
     "name": "stdout",
     "output_type": "stream",
     "text": [
      "Hello world\n",
      "hello world\n",
      "HELLO WORLD\n"
     ]
    }
   ],
   "source": [
    "st='hello WORLD'\n",
    "print(st.capitalize())\n",
    "print(st.lower())\n",
    "print(st.upper())"
   ]
  },
  {
   "cell_type": "code",
   "execution_count": 69,
   "metadata": {},
   "outputs": [
    {
     "name": "stdout",
     "output_type": "stream",
     "text": [
      "6\n"
     ]
    }
   ],
   "source": [
    "print(st.find(\"WOR\"))"
   ]
  },
  {
   "cell_type": "code",
   "execution_count": 71,
   "metadata": {},
   "outputs": [
    {
     "name": "stdout",
     "output_type": "stream",
     "text": [
      "-1\n"
     ]
    }
   ],
   "source": [
    "st='hello world'\n",
    "print(st.find(\"d\",4,len(st)-1))"
   ]
  },
  {
   "cell_type": "code",
   "execution_count": 72,
   "metadata": {},
   "outputs": [
    {
     "name": "stdout",
     "output_type": "stream",
     "text": [
      "white spaces\n"
     ]
    }
   ],
   "source": [
    "st = \"     white spaces    \"\n",
    "print(st.strip())\n"
   ]
  },
  {
   "cell_type": "code",
   "execution_count": 77,
   "metadata": {},
   "outputs": [
    {
     "name": "stdout",
     "output_type": "stream",
     "text": [
      "without # tags\n"
     ]
    }
   ],
   "source": [
    "st = \"#######without # tags######\"\n",
    "print(st.strip('#'))"
   ]
  },
  {
   "cell_type": "code",
   "execution_count": 78,
   "metadata": {},
   "outputs": [
    {
     "name": "stdout",
     "output_type": "stream",
     "text": [
      "newline\n"
     ]
    }
   ],
   "source": [
    "print('new''line')"
   ]
  },
  {
   "cell_type": "code",
   "execution_count": 97,
   "metadata": {},
   "outputs": [
    {
     "name": "stdout",
     "output_type": "stream",
     "text": [
      "Enter stringString\n",
      "Stringly\n"
     ]
    }
   ],
   "source": [
    "sample = input(\"Enter string\")\n",
    "if len(sample) < 3:\n",
    "    print(sample)\n",
    "elif sample.endswith(\"ing\"):\n",
    "    print(sample,\"ly\",sep=\"\")\n",
    "else :\n",
    "    print(sample,\"ing\")"
   ]
  },
  {
   "cell_type": "code",
   "execution_count": 91,
   "metadata": {},
   "outputs": [
    {
     "name": "stdout",
     "output_type": "stream",
     "text": [
      "5\n",
      "2\n"
     ]
    }
   ],
   "source": [
    "sample = 'abceeeeeing'\n",
    "print(sample.count('e'))\n",
    "print(sample.count('ee',3,7))\n"
   ]
  },
  {
   "cell_type": "code",
   "execution_count": 96,
   "metadata": {},
   "outputs": [
    {
     "name": "stdout",
     "output_type": "stream",
     "text": [
      "ieee.org\n"
     ]
    }
   ],
   "source": [
    "#Extract domain name\n",
    "st=\"From chetanahegde@ieee.org Wed Feb 21 98:23:34 2018\"\n",
    "\n",
    "print(st[st.find(\"@\")+1:st.find(\" \",st.find(\"@\")+1)])"
   ]
  },
  {
   "cell_type": "code",
   "execution_count": 101,
   "metadata": {},
   "outputs": [
    {
     "name": "stdout",
     "output_type": "stream",
     "text": [
      "The lyrics is good!\n"
     ]
    }
   ],
   "source": [
    "#if \"not\" and \"poor\" is present replace by \"good\"\n",
    "sample= 'The lyrics is not that poor!'\n",
    "notpos = sample.find(\"not\")\n",
    "poorpos = sample.find(\"poor\",notpos)\n",
    "if notpos > 0 and poorpos > 0:\n",
    "    print(sample[:notpos],'good',sample[poorpos+4:],sep=\"\")\n",
    "else:\n",
    "    print(sample)\n"
   ]
  }
 ],
 "metadata": {
  "kernelspec": {
   "display_name": "Python 3",
   "language": "python",
   "name": "python3"
  },
  "language_info": {
   "codemirror_mode": {
    "name": "ipython",
    "version": 3
   },
   "file_extension": ".py",
   "mimetype": "text/x-python",
   "name": "python",
   "nbconvert_exporter": "python",
   "pygments_lexer": "ipython3",
   "version": "3.7.1"
  }
 },
 "nbformat": 4,
 "nbformat_minor": 2
}
